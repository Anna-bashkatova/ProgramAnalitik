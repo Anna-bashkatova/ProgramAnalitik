{
  "nbformat": 4,
  "nbformat_minor": 0,
  "metadata": {
    "colab": {
      "name": "ПР4-3 Обучающие кейсы по анализу данных_Башкатова.ipynb",
      "provenance": [],
      "collapsed_sections": [
        "w-W57tINVC2z"
      ],
      "include_colab_link": true
    },
    "kernelspec": {
      "name": "python3",
      "display_name": "Python 3"
    },
    "language_info": {
      "name": "python"
    }
  },
  "cells": [
    {
      "cell_type": "markdown",
      "metadata": {
        "id": "view-in-github",
        "colab_type": "text"
      },
      "source": [
        "<a href=\"https://colab.research.google.com/github/Anna-bashkatova/ProgramAnalitik/blob/main/%D0%9F%D0%A04_3_%D0%9E%D0%B1%D1%83%D1%87%D0%B0%D1%8E%D1%89%D0%B8%D0%B5_%D0%BA%D0%B5%D0%B9%D1%81%D1%8B_%D0%BF%D0%BE_%D0%B0%D0%BD%D0%B0%D0%BB%D0%B8%D0%B7%D1%83_%D0%B4%D0%B0%D0%BD%D0%BD%D1%8B%D1%85_%D0%91%D0%B0%D1%88%D0%BA%D0%B0%D1%82%D0%BE%D0%B2%D0%B0.ipynb\" target=\"_parent\"><img src=\"https://colab.research.google.com/assets/colab-badge.svg\" alt=\"Open In Colab\"/></a>"
      ]
    },
    {
      "cell_type": "markdown",
      "metadata": {
        "id": "y35IK1tKOHFo"
      },
      "source": [
        "# **Шаг 1. Импорт данных и изучение характеристик наборов данных.**"
      ]
    },
    {
      "cell_type": "markdown",
      "metadata": {
        "id": "PEGx4ggZPCwS"
      },
      "source": [
        "Мы импортируем все библиотеки и сохраняем URL в переменной. Затем мы делаем HTTP запросить этот URL-адрес с помощью метода get для получения информации с этой веб-страницы.\n",
        "Текстовый атрибут объекта запросов содержит данные HTML, которые передаются в функция pd.read_html. Эта функция возвращает список объектов DataFrame, содержащих различные таблицы на веб-странице. Поскольку на веб-странице есть только одна таблица, DataFrame (df) содержит только одну таблицу."
      ]
    },
    {
      "cell_type": "code",
      "metadata": {
        "id": "HUyaKVClN7jD"
      },
      "source": [
        "#importing the libraries\n",
        "import requests #библиотека запросов\n",
        "import pandas as pd\n",
        "import seaborn as sns\n",
        "import matplotlib.pyplot as plt\n",
        "#Importing the data from the webpage into a DataFrame\n",
        "url='https://en.wikipedia.org/wiki/List_of_2018_box_office_number-one_films_in_France'\n",
        "req=requests.get(url)\n",
        "data=pd.read_html(req.text)\n",
        "df=data[0]"
      ],
      "execution_count": 16,
      "outputs": []
    },
    {
      "cell_type": "code",
      "metadata": {
        "id": "bCccm_4mJFGY"
      },
      "source": [
        "df"
      ],
      "execution_count": null,
      "outputs": []
    },
    {
      "cell_type": "markdown",
      "metadata": {
        "id": "EY3gw9kpPTb3"
      },
      "source": [
        "\n",
        "Изучаем  первые 5 записей: "
      ]
    },
    {
      "cell_type": "code",
      "metadata": {
        "id": "A336U7_sOZ_D",
        "colab": {
          "base_uri": "https://localhost:8080/",
          "height": 195
        },
        "outputId": "c3f9436f-aae0-466b-acfd-d833a17487e0"
      },
      "source": [
        "df.head(5)"
      ],
      "execution_count": 17,
      "outputs": [
        {
          "output_type": "execute_result",
          "data": {
            "text/html": [
              "<div>\n",
              "<style scoped>\n",
              "    .dataframe tbody tr th:only-of-type {\n",
              "        vertical-align: middle;\n",
              "    }\n",
              "\n",
              "    .dataframe tbody tr th {\n",
              "        vertical-align: top;\n",
              "    }\n",
              "\n",
              "    .dataframe thead th {\n",
              "        text-align: right;\n",
              "    }\n",
              "</style>\n",
              "<table border=\"1\" class=\"dataframe\">\n",
              "  <thead>\n",
              "    <tr style=\"text-align: right;\">\n",
              "      <th></th>\n",
              "      <th>#</th>\n",
              "      <th>Date</th>\n",
              "      <th>Film</th>\n",
              "      <th>Gross</th>\n",
              "      <th>Notes</th>\n",
              "    </tr>\n",
              "  </thead>\n",
              "  <tbody>\n",
              "    <tr>\n",
              "      <th>0</th>\n",
              "      <td>1</td>\n",
              "      <td>January 7, 2018</td>\n",
              "      <td>Star Wars: The Last Jedi</td>\n",
              "      <td>US$6,557,062</td>\n",
              "      <td>[1]</td>\n",
              "    </tr>\n",
              "    <tr>\n",
              "      <th>1</th>\n",
              "      <td>2</td>\n",
              "      <td>January 14, 2018</td>\n",
              "      <td>Jumanji: Welcome to the Jungle</td>\n",
              "      <td>US$2,127,871</td>\n",
              "      <td>[2]</td>\n",
              "    </tr>\n",
              "    <tr>\n",
              "      <th>2</th>\n",
              "      <td>3</td>\n",
              "      <td>January 21, 2018</td>\n",
              "      <td>Brillantissime</td>\n",
              "      <td>US$2,006,033</td>\n",
              "      <td>[3]</td>\n",
              "    </tr>\n",
              "    <tr>\n",
              "      <th>3</th>\n",
              "      <td>4</td>\n",
              "      <td>January 28, 2018</td>\n",
              "      <td>The Post</td>\n",
              "      <td>US$2,771,269</td>\n",
              "      <td>[4]</td>\n",
              "    </tr>\n",
              "    <tr>\n",
              "      <th>4</th>\n",
              "      <td>5</td>\n",
              "      <td>February 4, 2018</td>\n",
              "      <td>Les Tuche 3</td>\n",
              "      <td>US$16,604,101</td>\n",
              "      <td>[5]</td>\n",
              "    </tr>\n",
              "  </tbody>\n",
              "</table>\n",
              "</div>"
            ],
            "text/plain": [
              "   #              Date                            Film          Gross Notes\n",
              "0  1   January 7, 2018        Star Wars: The Last Jedi   US$6,557,062   [1]\n",
              "1  2  January 14, 2018  Jumanji: Welcome to the Jungle   US$2,127,871   [2]\n",
              "2  3  January 21, 2018                  Brillantissime   US$2,006,033   [3]\n",
              "3  4  January 28, 2018                        The Post   US$2,771,269   [4]\n",
              "4  5  February 4, 2018                     Les Tuche 3  US$16,604,101   [5]"
            ]
          },
          "metadata": {
            "tags": []
          },
          "execution_count": 17
        }
      ]
    },
    {
      "cell_type": "markdown",
      "metadata": {
        "id": "TcQWoBGJPcsX"
      },
      "source": [
        "Получение типов данных и пропущенных значений:"
      ]
    },
    {
      "cell_type": "code",
      "metadata": {
        "id": "ml-T0-w4PjST",
        "colab": {
          "base_uri": "https://localhost:8080/"
        },
        "outputId": "3ed2672c-491f-4f3a-9b92-2e472b6b3d32"
      },
      "source": [
        "df.info()"
      ],
      "execution_count": 18,
      "outputs": [
        {
          "output_type": "stream",
          "text": [
            "<class 'pandas.core.frame.DataFrame'>\n",
            "RangeIndex: 50 entries, 0 to 49\n",
            "Data columns (total 5 columns):\n",
            " #   Column  Non-Null Count  Dtype \n",
            "---  ------  --------------  ----- \n",
            " 0   #       50 non-null     int64 \n",
            " 1   Date    50 non-null     object\n",
            " 2   Film    50 non-null     object\n",
            " 3   Gross   50 non-null     object\n",
            " 4   Notes   50 non-null     object\n",
            "dtypes: int64(1), object(4)\n",
            "memory usage: 2.1+ KB\n"
          ],
          "name": "stdout"
        }
      ]
    },
    {
      "cell_type": "markdown",
      "metadata": {
        "id": "1ebLxDUDPt5x"
      },
      "source": [
        "Как мы видим, типы данных столбцов не в нужном нам формате. Gross столбец представляет собой числовой столбец. Однако этому столбцу был назначен тип данных объекта, поскольку он содержит как числовые, так и нечисловые\n",
        "данные (символы типа “,”, “$”  и буквы типа «U» и «S»). Преобразуем данные:"
      ]
    },
    {
      "cell_type": "markdown",
      "metadata": {
        "id": "G2djkfEJQPn5"
      },
      "source": [
        "# **Шаг 2. Обработка данных** "
      ]
    },
    {
      "cell_type": "markdown",
      "metadata": {
        "id": "BKn1Ks5aQWjG"
      },
      "source": [
        "На этом этапе мы:\n",
        "  1. Удалим ненужные символы.\n",
        "  2. Изменим типы данных.\n",
        "  3. Удалим ненужные столбцы.\n",
        "  4. Создадим новый столбец из существующего столбца."
      ]
    },
    {
      "cell_type": "markdown",
      "metadata": {
        "id": "zRPAhP-yQxYR"
      },
      "source": [
        "Удалим ненужные строки из столбца **Gross**, оставив только\n",
        "числовые значения:"
      ]
    },
    {
      "cell_type": "code",
      "metadata": {
        "id": "smvlut1cQyb9"
      },
      "source": [
        "df['Gross'] = df['Gross'].str.replace(r\"US\\$\",\"\").str.replace(r\",\",\"\")"
      ],
      "execution_count": 19,
      "outputs": []
    },
    {
      "cell_type": "markdown",
      "metadata": {
        "id": "qj63VFn9RBGI"
      },
      "source": [
        " Первая замена\n",
        "метод удаляет «US$», а второй метод замены удаляет запятые. Замена\n",
        "символ с пустой строкой (\"\") эквивалентен удалению символа. Теперь давайте используем метод **astype** для приведения типа или изменения типа данных этого столбца на **int64**, чтобы этот столбец можно было использовать для вычислений и визуализаций:"
      ]
    },
    {
      "cell_type": "code",
      "metadata": {
        "id": "Y0GR4N_QRYlY"
      },
      "source": [
        "df['Gross'] = df['Gross'].astype('int64')"
      ],
      "execution_count": 20,
      "outputs": []
    },
    {
      "cell_type": "markdown",
      "metadata": {
        "id": "2cyNPLLcRcah"
      },
      "source": [
        "check:"
      ]
    },
    {
      "cell_type": "code",
      "metadata": {
        "id": "6QowMMUPRdhg",
        "colab": {
          "base_uri": "https://localhost:8080/"
        },
        "outputId": "2ad6ab95-0751-4113-df56-312a92aaf179"
      },
      "source": [
        "df.info()"
      ],
      "execution_count": 21,
      "outputs": [
        {
          "output_type": "stream",
          "text": [
            "<class 'pandas.core.frame.DataFrame'>\n",
            "RangeIndex: 50 entries, 0 to 49\n",
            "Data columns (total 5 columns):\n",
            " #   Column  Non-Null Count  Dtype \n",
            "---  ------  --------------  ----- \n",
            " 0   #       50 non-null     int64 \n",
            " 1   Date    50 non-null     object\n",
            " 2   Film    50 non-null     object\n",
            " 3   Gross   50 non-null     int64 \n",
            " 4   Notes   50 non-null     object\n",
            "dtypes: int64(2), object(3)\n",
            "memory usage: 2.1+ KB\n"
          ],
          "name": "stdout"
        }
      ]
    },
    {
      "cell_type": "code",
      "metadata": {
        "colab": {
          "base_uri": "https://localhost:8080/"
        },
        "id": "-Jqk246kNLfz",
        "outputId": "701d7a43-289b-4154-81cd-fda837725ad4"
      },
      "source": [
        "df['Gross'].head(5)"
      ],
      "execution_count": 22,
      "outputs": [
        {
          "output_type": "execute_result",
          "data": {
            "text/plain": [
              "0     6557062\n",
              "1     2127871\n",
              "2     2006033\n",
              "3     2771269\n",
              "4    16604101\n",
              "Name: Gross, dtype: int64"
            ]
          },
          "metadata": {
            "tags": []
          },
          "execution_count": 22
        }
      ]
    },
    {
      "cell_type": "markdown",
      "metadata": {
        "id": "wRo4759zRmbk"
      },
      "source": [
        "Нам также нужно извлечь месяц из даты, сначала изменив тип данных столбца «Дата» и затем применив к нему метод **DatetimeIndex**, как показано ниже:"
      ]
    },
    {
      "cell_type": "code",
      "metadata": {
        "id": "i7MCd0NZR35E"
      },
      "source": [
        "df['Date'] = df['Date'].astype('datetime64')"
      ],
      "execution_count": 23,
      "outputs": []
    },
    {
      "cell_type": "code",
      "metadata": {
        "id": "HhOGWYERR98k"
      },
      "source": [
        "df['Month'] = pd.DatetimeIndex(df['Date']).month"
      ],
      "execution_count": 25,
      "outputs": []
    },
    {
      "cell_type": "markdown",
      "metadata": {
        "id": "qGS5TsTeSFQX"
      },
      "source": [
        "Наконец, мы удаляем два ненужных столбца из DataFrame, используя следующие\n",
        "утверждение."
      ]
    },
    {
      "cell_type": "code",
      "metadata": {
        "id": "X-gP7tlVSGfy"
      },
      "source": [
        "df.drop(['#','Notes'], axis = 1, inplace=True)"
      ],
      "execution_count": 26,
      "outputs": []
    },
    {
      "cell_type": "code",
      "metadata": {
        "colab": {
          "base_uri": "https://localhost:8080/",
          "height": 1000
        },
        "id": "A9A6SzBwORZ_",
        "outputId": "5403a998-ce71-47ae-c597-72a501bd1417"
      },
      "source": [
        "df"
      ],
      "execution_count": 31,
      "outputs": [
        {
          "output_type": "execute_result",
          "data": {
            "text/html": [
              "<div>\n",
              "<style scoped>\n",
              "    .dataframe tbody tr th:only-of-type {\n",
              "        vertical-align: middle;\n",
              "    }\n",
              "\n",
              "    .dataframe tbody tr th {\n",
              "        vertical-align: top;\n",
              "    }\n",
              "\n",
              "    .dataframe thead th {\n",
              "        text-align: right;\n",
              "    }\n",
              "</style>\n",
              "<table border=\"1\" class=\"dataframe\">\n",
              "  <thead>\n",
              "    <tr style=\"text-align: right;\">\n",
              "      <th></th>\n",
              "      <th>Date</th>\n",
              "      <th>Film</th>\n",
              "      <th>Gross</th>\n",
              "      <th>Month</th>\n",
              "    </tr>\n",
              "  </thead>\n",
              "  <tbody>\n",
              "    <tr>\n",
              "      <th>0</th>\n",
              "      <td>2018-01-07</td>\n",
              "      <td>Star Wars: The Last Jedi</td>\n",
              "      <td>6557062</td>\n",
              "      <td>1</td>\n",
              "    </tr>\n",
              "    <tr>\n",
              "      <th>1</th>\n",
              "      <td>2018-01-14</td>\n",
              "      <td>Jumanji: Welcome to the Jungle</td>\n",
              "      <td>2127871</td>\n",
              "      <td>1</td>\n",
              "    </tr>\n",
              "    <tr>\n",
              "      <th>2</th>\n",
              "      <td>2018-01-21</td>\n",
              "      <td>Brillantissime</td>\n",
              "      <td>2006033</td>\n",
              "      <td>1</td>\n",
              "    </tr>\n",
              "    <tr>\n",
              "      <th>3</th>\n",
              "      <td>2018-01-28</td>\n",
              "      <td>The Post</td>\n",
              "      <td>2771269</td>\n",
              "      <td>1</td>\n",
              "    </tr>\n",
              "    <tr>\n",
              "      <th>4</th>\n",
              "      <td>2018-02-04</td>\n",
              "      <td>Les Tuche 3</td>\n",
              "      <td>16604101</td>\n",
              "      <td>2</td>\n",
              "    </tr>\n",
              "    <tr>\n",
              "      <th>5</th>\n",
              "      <td>2018-02-11</td>\n",
              "      <td>Les Tuche 3</td>\n",
              "      <td>8753427</td>\n",
              "      <td>2</td>\n",
              "    </tr>\n",
              "    <tr>\n",
              "      <th>6</th>\n",
              "      <td>2018-02-18</td>\n",
              "      <td>Black Panther</td>\n",
              "      <td>7627163</td>\n",
              "      <td>2</td>\n",
              "    </tr>\n",
              "    <tr>\n",
              "      <th>7</th>\n",
              "      <td>2018-02-25</td>\n",
              "      <td>Black Panther</td>\n",
              "      <td>5637555</td>\n",
              "      <td>2</td>\n",
              "    </tr>\n",
              "    <tr>\n",
              "      <th>8</th>\n",
              "      <td>2018-03-04</td>\n",
              "      <td>La ch'tite famille</td>\n",
              "      <td>16739183</td>\n",
              "      <td>3</td>\n",
              "    </tr>\n",
              "    <tr>\n",
              "      <th>9</th>\n",
              "      <td>2018-03-11</td>\n",
              "      <td>La ch'tite famille</td>\n",
              "      <td>9546133</td>\n",
              "      <td>3</td>\n",
              "    </tr>\n",
              "    <tr>\n",
              "      <th>10</th>\n",
              "      <td>2018-03-18</td>\n",
              "      <td>La ch'tite famille</td>\n",
              "      <td>5278842</td>\n",
              "      <td>3</td>\n",
              "    </tr>\n",
              "    <tr>\n",
              "      <th>11</th>\n",
              "      <td>2018-03-25</td>\n",
              "      <td>Rolling to You</td>\n",
              "      <td>3073866</td>\n",
              "      <td>3</td>\n",
              "    </tr>\n",
              "    <tr>\n",
              "      <th>12</th>\n",
              "      <td>2018-04-01</td>\n",
              "      <td>Ready Player One</td>\n",
              "      <td>5484062</td>\n",
              "      <td>4</td>\n",
              "    </tr>\n",
              "    <tr>\n",
              "      <th>13</th>\n",
              "      <td>2018-04-08</td>\n",
              "      <td>Ready Player One</td>\n",
              "      <td>3140585</td>\n",
              "      <td>4</td>\n",
              "    </tr>\n",
              "    <tr>\n",
              "      <th>14</th>\n",
              "      <td>2018-04-15</td>\n",
              "      <td>Taxi 5</td>\n",
              "      <td>10568544</td>\n",
              "      <td>4</td>\n",
              "    </tr>\n",
              "    <tr>\n",
              "      <th>15</th>\n",
              "      <td>2018-04-22</td>\n",
              "      <td>Taxi 5</td>\n",
              "      <td>4109407</td>\n",
              "      <td>4</td>\n",
              "    </tr>\n",
              "    <tr>\n",
              "      <th>16</th>\n",
              "      <td>2018-04-29</td>\n",
              "      <td>Avengers: Infinity War</td>\n",
              "      <td>17645304</td>\n",
              "      <td>4</td>\n",
              "    </tr>\n",
              "    <tr>\n",
              "      <th>17</th>\n",
              "      <td>2018-05-06</td>\n",
              "      <td>Avengers: Infinity War</td>\n",
              "      <td>6891789</td>\n",
              "      <td>5</td>\n",
              "    </tr>\n",
              "    <tr>\n",
              "      <th>18</th>\n",
              "      <td>2018-05-13</td>\n",
              "      <td>Avengers: Infinity War</td>\n",
              "      <td>6273652</td>\n",
              "      <td>5</td>\n",
              "    </tr>\n",
              "    <tr>\n",
              "      <th>19</th>\n",
              "      <td>2018-05-20</td>\n",
              "      <td>Deadpool 2</td>\n",
              "      <td>8836807</td>\n",
              "      <td>5</td>\n",
              "    </tr>\n",
              "    <tr>\n",
              "      <th>20</th>\n",
              "      <td>2018-05-27</td>\n",
              "      <td>Solo: A Star Wars Story</td>\n",
              "      <td>4015319</td>\n",
              "      <td>5</td>\n",
              "    </tr>\n",
              "    <tr>\n",
              "      <th>21</th>\n",
              "      <td>2018-06-03</td>\n",
              "      <td>Solo: A Star Wars Story</td>\n",
              "      <td>2770078</td>\n",
              "      <td>6</td>\n",
              "    </tr>\n",
              "    <tr>\n",
              "      <th>22</th>\n",
              "      <td>2018-06-10</td>\n",
              "      <td>Jurassic World: Fallen Kingdom</td>\n",
              "      <td>9579503</td>\n",
              "      <td>6</td>\n",
              "    </tr>\n",
              "    <tr>\n",
              "      <th>23</th>\n",
              "      <td>2018-06-17</td>\n",
              "      <td>Jurassic World: Fallen Kingdom</td>\n",
              "      <td>4791805</td>\n",
              "      <td>6</td>\n",
              "    </tr>\n",
              "    <tr>\n",
              "      <th>24</th>\n",
              "      <td>2018-06-24</td>\n",
              "      <td>Jurassic World: Fallen Kingdom</td>\n",
              "      <td>2520159</td>\n",
              "      <td>6</td>\n",
              "    </tr>\n",
              "    <tr>\n",
              "      <th>25</th>\n",
              "      <td>2018-07-01</td>\n",
              "      <td>Jurassic World: Fallen Kingdom</td>\n",
              "      <td>1740016</td>\n",
              "      <td>7</td>\n",
              "    </tr>\n",
              "    <tr>\n",
              "      <th>26</th>\n",
              "      <td>2018-07-08</td>\n",
              "      <td>Incredibles 2</td>\n",
              "      <td>9454086</td>\n",
              "      <td>7</td>\n",
              "    </tr>\n",
              "    <tr>\n",
              "      <th>27</th>\n",
              "      <td>2018-07-15</td>\n",
              "      <td>Incredibles 2</td>\n",
              "      <td>5152960</td>\n",
              "      <td>7</td>\n",
              "    </tr>\n",
              "    <tr>\n",
              "      <th>28</th>\n",
              "      <td>2018-07-22</td>\n",
              "      <td>Incredibles 2</td>\n",
              "      <td>4859634</td>\n",
              "      <td>7</td>\n",
              "    </tr>\n",
              "    <tr>\n",
              "      <th>29</th>\n",
              "      <td>2018-07-29</td>\n",
              "      <td>Hotel Transylvania 3: Summer Vacation</td>\n",
              "      <td>3929857</td>\n",
              "      <td>7</td>\n",
              "    </tr>\n",
              "    <tr>\n",
              "      <th>30</th>\n",
              "      <td>2018-08-05</td>\n",
              "      <td>Mission: Impossible – Fallout</td>\n",
              "      <td>8193447</td>\n",
              "      <td>8</td>\n",
              "    </tr>\n",
              "    <tr>\n",
              "      <th>31</th>\n",
              "      <td>2018-08-12</td>\n",
              "      <td>Mission: Impossible – Fallout</td>\n",
              "      <td>4350586</td>\n",
              "      <td>8</td>\n",
              "    </tr>\n",
              "    <tr>\n",
              "      <th>32</th>\n",
              "      <td>2018-08-19</td>\n",
              "      <td>Mission: Impossible – Fallout</td>\n",
              "      <td>2873390</td>\n",
              "      <td>8</td>\n",
              "    </tr>\n",
              "    <tr>\n",
              "      <th>33</th>\n",
              "      <td>2018-08-26</td>\n",
              "      <td>The Meg</td>\n",
              "      <td>4513632</td>\n",
              "      <td>8</td>\n",
              "    </tr>\n",
              "    <tr>\n",
              "      <th>34</th>\n",
              "      <td>2018-09-02</td>\n",
              "      <td>The Meg</td>\n",
              "      <td>2513203</td>\n",
              "      <td>9</td>\n",
              "    </tr>\n",
              "    <tr>\n",
              "      <th>35</th>\n",
              "      <td>2018-09-09</td>\n",
              "      <td>Photo de Famille</td>\n",
              "      <td>1414632</td>\n",
              "      <td>9</td>\n",
              "    </tr>\n",
              "    <tr>\n",
              "      <th>36</th>\n",
              "      <td>2018-09-16</td>\n",
              "      <td>Première année</td>\n",
              "      <td>2222791</td>\n",
              "      <td>9</td>\n",
              "    </tr>\n",
              "    <tr>\n",
              "      <th>37</th>\n",
              "      <td>2018-09-23</td>\n",
              "      <td>The Nun</td>\n",
              "      <td>4425722</td>\n",
              "      <td>9</td>\n",
              "    </tr>\n",
              "    <tr>\n",
              "      <th>38</th>\n",
              "      <td>2018-09-30</td>\n",
              "      <td>The Nun</td>\n",
              "      <td>2254244</td>\n",
              "      <td>9</td>\n",
              "    </tr>\n",
              "    <tr>\n",
              "      <th>39</th>\n",
              "      <td>2018-10-07</td>\n",
              "      <td>Alad'2</td>\n",
              "      <td>6228621</td>\n",
              "      <td>10</td>\n",
              "    </tr>\n",
              "    <tr>\n",
              "      <th>40</th>\n",
              "      <td>2018-10-14</td>\n",
              "      <td>Venom</td>\n",
              "      <td>6646527</td>\n",
              "      <td>10</td>\n",
              "    </tr>\n",
              "    <tr>\n",
              "      <th>41</th>\n",
              "      <td>2018-10-21</td>\n",
              "      <td>Venom</td>\n",
              "      <td>3019547</td>\n",
              "      <td>10</td>\n",
              "    </tr>\n",
              "    <tr>\n",
              "      <th>42</th>\n",
              "      <td>2018-10-28</td>\n",
              "      <td>Sink or Swim</td>\n",
              "      <td>9051705</td>\n",
              "      <td>10</td>\n",
              "    </tr>\n",
              "    <tr>\n",
              "      <th>43</th>\n",
              "      <td>2018-11-04</td>\n",
              "      <td>Sink or Swim</td>\n",
              "      <td>9676385</td>\n",
              "      <td>11</td>\n",
              "    </tr>\n",
              "    <tr>\n",
              "      <th>44</th>\n",
              "      <td>2018-11-11</td>\n",
              "      <td>Bohemian Rhapsody</td>\n",
              "      <td>5154997</td>\n",
              "      <td>11</td>\n",
              "    </tr>\n",
              "    <tr>\n",
              "      <th>45</th>\n",
              "      <td>2018-11-18</td>\n",
              "      <td>Fantastic Beasts: The Crimes of Grindelwald</td>\n",
              "      <td>11438486</td>\n",
              "      <td>11</td>\n",
              "    </tr>\n",
              "    <tr>\n",
              "      <th>46</th>\n",
              "      <td>2018-11-25</td>\n",
              "      <td>Fantastic Beasts: The Crimes of Grindelwald</td>\n",
              "      <td>6378619</td>\n",
              "      <td>11</td>\n",
              "    </tr>\n",
              "    <tr>\n",
              "      <th>47</th>\n",
              "      <td>2018-12-02</td>\n",
              "      <td>Fantastic Beasts: The Crimes of Grindelwald</td>\n",
              "      <td>3656409</td>\n",
              "      <td>12</td>\n",
              "    </tr>\n",
              "    <tr>\n",
              "      <th>48</th>\n",
              "      <td>2018-12-09</td>\n",
              "      <td>Asterix: The Secret of the Magic Potion</td>\n",
              "      <td>6863693</td>\n",
              "      <td>12</td>\n",
              "    </tr>\n",
              "    <tr>\n",
              "      <th>49</th>\n",
              "      <td>2018-12-16</td>\n",
              "      <td>Asterix: The Secret of the Magic Potion</td>\n",
              "      <td>4187527</td>\n",
              "      <td>12</td>\n",
              "    </tr>\n",
              "  </tbody>\n",
              "</table>\n",
              "</div>"
            ],
            "text/plain": [
              "         Date                                         Film     Gross  Month\n",
              "0  2018-01-07                     Star Wars: The Last Jedi   6557062      1\n",
              "1  2018-01-14               Jumanji: Welcome to the Jungle   2127871      1\n",
              "2  2018-01-21                               Brillantissime   2006033      1\n",
              "3  2018-01-28                                     The Post   2771269      1\n",
              "4  2018-02-04                                  Les Tuche 3  16604101      2\n",
              "5  2018-02-11                                  Les Tuche 3   8753427      2\n",
              "6  2018-02-18                                Black Panther   7627163      2\n",
              "7  2018-02-25                                Black Panther   5637555      2\n",
              "8  2018-03-04                           La ch'tite famille  16739183      3\n",
              "9  2018-03-11                           La ch'tite famille   9546133      3\n",
              "10 2018-03-18                           La ch'tite famille   5278842      3\n",
              "11 2018-03-25                               Rolling to You   3073866      3\n",
              "12 2018-04-01                             Ready Player One   5484062      4\n",
              "13 2018-04-08                             Ready Player One   3140585      4\n",
              "14 2018-04-15                                       Taxi 5  10568544      4\n",
              "15 2018-04-22                                       Taxi 5   4109407      4\n",
              "16 2018-04-29                       Avengers: Infinity War  17645304      4\n",
              "17 2018-05-06                       Avengers: Infinity War   6891789      5\n",
              "18 2018-05-13                       Avengers: Infinity War   6273652      5\n",
              "19 2018-05-20                                   Deadpool 2   8836807      5\n",
              "20 2018-05-27                      Solo: A Star Wars Story   4015319      5\n",
              "21 2018-06-03                      Solo: A Star Wars Story   2770078      6\n",
              "22 2018-06-10               Jurassic World: Fallen Kingdom   9579503      6\n",
              "23 2018-06-17               Jurassic World: Fallen Kingdom   4791805      6\n",
              "24 2018-06-24               Jurassic World: Fallen Kingdom   2520159      6\n",
              "25 2018-07-01               Jurassic World: Fallen Kingdom   1740016      7\n",
              "26 2018-07-08                                Incredibles 2   9454086      7\n",
              "27 2018-07-15                                Incredibles 2   5152960      7\n",
              "28 2018-07-22                                Incredibles 2   4859634      7\n",
              "29 2018-07-29        Hotel Transylvania 3: Summer Vacation   3929857      7\n",
              "30 2018-08-05                Mission: Impossible – Fallout   8193447      8\n",
              "31 2018-08-12                Mission: Impossible – Fallout   4350586      8\n",
              "32 2018-08-19                Mission: Impossible – Fallout   2873390      8\n",
              "33 2018-08-26                                      The Meg   4513632      8\n",
              "34 2018-09-02                                      The Meg   2513203      9\n",
              "35 2018-09-09                             Photo de Famille   1414632      9\n",
              "36 2018-09-16                               Première année   2222791      9\n",
              "37 2018-09-23                                      The Nun   4425722      9\n",
              "38 2018-09-30                                      The Nun   2254244      9\n",
              "39 2018-10-07                                       Alad'2   6228621     10\n",
              "40 2018-10-14                                        Venom   6646527     10\n",
              "41 2018-10-21                                        Venom   3019547     10\n",
              "42 2018-10-28                                 Sink or Swim   9051705     10\n",
              "43 2018-11-04                                 Sink or Swim   9676385     11\n",
              "44 2018-11-11                            Bohemian Rhapsody   5154997     11\n",
              "45 2018-11-18  Fantastic Beasts: The Crimes of Grindelwald  11438486     11\n",
              "46 2018-11-25  Fantastic Beasts: The Crimes of Grindelwald   6378619     11\n",
              "47 2018-12-02  Fantastic Beasts: The Crimes of Grindelwald   3656409     12\n",
              "48 2018-12-09      Asterix: The Secret of the Magic Potion   6863693     12\n",
              "49 2018-12-16      Asterix: The Secret of the Magic Potion   4187527     12"
            ]
          },
          "metadata": {
            "tags": []
          },
          "execution_count": 31
        }
      ]
    },
    {
      "cell_type": "code",
      "metadata": {
        "colab": {
          "base_uri": "https://localhost:8080/"
        },
        "id": "r9IB_RfGOk4U",
        "outputId": "1806d013-1e1a-4941-b6d0-77f8d92a012a"
      },
      "source": [
        "df.info()"
      ],
      "execution_count": 30,
      "outputs": [
        {
          "output_type": "stream",
          "text": [
            "<class 'pandas.core.frame.DataFrame'>\n",
            "RangeIndex: 50 entries, 0 to 49\n",
            "Data columns (total 4 columns):\n",
            " #   Column  Non-Null Count  Dtype         \n",
            "---  ------  --------------  -----         \n",
            " 0   Date    50 non-null     datetime64[ns]\n",
            " 1   Film    50 non-null     object        \n",
            " 2   Gross   50 non-null     int64         \n",
            " 3   Month   50 non-null     int64         \n",
            "dtypes: datetime64[ns](1), int64(2), object(1)\n",
            "memory usage: 1.7+ KB\n"
          ],
          "name": "stdout"
        }
      ]
    },
    {
      "cell_type": "markdown",
      "metadata": {
        "id": "NiUEGB2gSM6M"
      },
      "source": [
        "# **Шаг 3: Визуализация**"
      ]
    },
    {
      "cell_type": "markdown",
      "metadata": {
        "id": "q_2vjlbpSRLP"
      },
      "source": [
        " сначала мы создаем еще один DataFrame (df1), который содержит подмножество\n",
        "столбцов, которые содержат исходный DataFrame (df). Этот DataFrame, df1, содержит всего два столбцы - «Фильм» (название фильма) и «Gross» (Выручка). Затем мы сортируем значения выручки в порядке убывания. "
      ]
    },
    {
      "cell_type": "code",
      "metadata": {
        "id": "pEA66lJ6Srxa"
      },
      "source": [
        "df1 = df[['Film','Gross']].sort_values(ascending=False, by = 'Gross')"
      ],
      "execution_count": 28,
      "outputs": []
    },
    {
      "cell_type": "code",
      "metadata": {
        "colab": {
          "base_uri": "https://localhost:8080/",
          "height": 1000
        },
        "id": "Bsqr2z3_OixA",
        "outputId": "e118c610-173e-4c12-ab7d-23b045843a26"
      },
      "source": [
        "df1"
      ],
      "execution_count": 32,
      "outputs": [
        {
          "output_type": "execute_result",
          "data": {
            "text/html": [
              "<div>\n",
              "<style scoped>\n",
              "    .dataframe tbody tr th:only-of-type {\n",
              "        vertical-align: middle;\n",
              "    }\n",
              "\n",
              "    .dataframe tbody tr th {\n",
              "        vertical-align: top;\n",
              "    }\n",
              "\n",
              "    .dataframe thead th {\n",
              "        text-align: right;\n",
              "    }\n",
              "</style>\n",
              "<table border=\"1\" class=\"dataframe\">\n",
              "  <thead>\n",
              "    <tr style=\"text-align: right;\">\n",
              "      <th></th>\n",
              "      <th>Film</th>\n",
              "      <th>Gross</th>\n",
              "    </tr>\n",
              "  </thead>\n",
              "  <tbody>\n",
              "    <tr>\n",
              "      <th>16</th>\n",
              "      <td>Avengers: Infinity War</td>\n",
              "      <td>17645304</td>\n",
              "    </tr>\n",
              "    <tr>\n",
              "      <th>8</th>\n",
              "      <td>La ch'tite famille</td>\n",
              "      <td>16739183</td>\n",
              "    </tr>\n",
              "    <tr>\n",
              "      <th>4</th>\n",
              "      <td>Les Tuche 3</td>\n",
              "      <td>16604101</td>\n",
              "    </tr>\n",
              "    <tr>\n",
              "      <th>45</th>\n",
              "      <td>Fantastic Beasts: The Crimes of Grindelwald</td>\n",
              "      <td>11438486</td>\n",
              "    </tr>\n",
              "    <tr>\n",
              "      <th>14</th>\n",
              "      <td>Taxi 5</td>\n",
              "      <td>10568544</td>\n",
              "    </tr>\n",
              "    <tr>\n",
              "      <th>43</th>\n",
              "      <td>Sink or Swim</td>\n",
              "      <td>9676385</td>\n",
              "    </tr>\n",
              "    <tr>\n",
              "      <th>22</th>\n",
              "      <td>Jurassic World: Fallen Kingdom</td>\n",
              "      <td>9579503</td>\n",
              "    </tr>\n",
              "    <tr>\n",
              "      <th>9</th>\n",
              "      <td>La ch'tite famille</td>\n",
              "      <td>9546133</td>\n",
              "    </tr>\n",
              "    <tr>\n",
              "      <th>26</th>\n",
              "      <td>Incredibles 2</td>\n",
              "      <td>9454086</td>\n",
              "    </tr>\n",
              "    <tr>\n",
              "      <th>42</th>\n",
              "      <td>Sink or Swim</td>\n",
              "      <td>9051705</td>\n",
              "    </tr>\n",
              "    <tr>\n",
              "      <th>19</th>\n",
              "      <td>Deadpool 2</td>\n",
              "      <td>8836807</td>\n",
              "    </tr>\n",
              "    <tr>\n",
              "      <th>5</th>\n",
              "      <td>Les Tuche 3</td>\n",
              "      <td>8753427</td>\n",
              "    </tr>\n",
              "    <tr>\n",
              "      <th>30</th>\n",
              "      <td>Mission: Impossible – Fallout</td>\n",
              "      <td>8193447</td>\n",
              "    </tr>\n",
              "    <tr>\n",
              "      <th>6</th>\n",
              "      <td>Black Panther</td>\n",
              "      <td>7627163</td>\n",
              "    </tr>\n",
              "    <tr>\n",
              "      <th>17</th>\n",
              "      <td>Avengers: Infinity War</td>\n",
              "      <td>6891789</td>\n",
              "    </tr>\n",
              "    <tr>\n",
              "      <th>48</th>\n",
              "      <td>Asterix: The Secret of the Magic Potion</td>\n",
              "      <td>6863693</td>\n",
              "    </tr>\n",
              "    <tr>\n",
              "      <th>40</th>\n",
              "      <td>Venom</td>\n",
              "      <td>6646527</td>\n",
              "    </tr>\n",
              "    <tr>\n",
              "      <th>0</th>\n",
              "      <td>Star Wars: The Last Jedi</td>\n",
              "      <td>6557062</td>\n",
              "    </tr>\n",
              "    <tr>\n",
              "      <th>46</th>\n",
              "      <td>Fantastic Beasts: The Crimes of Grindelwald</td>\n",
              "      <td>6378619</td>\n",
              "    </tr>\n",
              "    <tr>\n",
              "      <th>18</th>\n",
              "      <td>Avengers: Infinity War</td>\n",
              "      <td>6273652</td>\n",
              "    </tr>\n",
              "    <tr>\n",
              "      <th>39</th>\n",
              "      <td>Alad'2</td>\n",
              "      <td>6228621</td>\n",
              "    </tr>\n",
              "    <tr>\n",
              "      <th>7</th>\n",
              "      <td>Black Panther</td>\n",
              "      <td>5637555</td>\n",
              "    </tr>\n",
              "    <tr>\n",
              "      <th>12</th>\n",
              "      <td>Ready Player One</td>\n",
              "      <td>5484062</td>\n",
              "    </tr>\n",
              "    <tr>\n",
              "      <th>10</th>\n",
              "      <td>La ch'tite famille</td>\n",
              "      <td>5278842</td>\n",
              "    </tr>\n",
              "    <tr>\n",
              "      <th>44</th>\n",
              "      <td>Bohemian Rhapsody</td>\n",
              "      <td>5154997</td>\n",
              "    </tr>\n",
              "    <tr>\n",
              "      <th>27</th>\n",
              "      <td>Incredibles 2</td>\n",
              "      <td>5152960</td>\n",
              "    </tr>\n",
              "    <tr>\n",
              "      <th>28</th>\n",
              "      <td>Incredibles 2</td>\n",
              "      <td>4859634</td>\n",
              "    </tr>\n",
              "    <tr>\n",
              "      <th>23</th>\n",
              "      <td>Jurassic World: Fallen Kingdom</td>\n",
              "      <td>4791805</td>\n",
              "    </tr>\n",
              "    <tr>\n",
              "      <th>33</th>\n",
              "      <td>The Meg</td>\n",
              "      <td>4513632</td>\n",
              "    </tr>\n",
              "    <tr>\n",
              "      <th>37</th>\n",
              "      <td>The Nun</td>\n",
              "      <td>4425722</td>\n",
              "    </tr>\n",
              "    <tr>\n",
              "      <th>31</th>\n",
              "      <td>Mission: Impossible – Fallout</td>\n",
              "      <td>4350586</td>\n",
              "    </tr>\n",
              "    <tr>\n",
              "      <th>49</th>\n",
              "      <td>Asterix: The Secret of the Magic Potion</td>\n",
              "      <td>4187527</td>\n",
              "    </tr>\n",
              "    <tr>\n",
              "      <th>15</th>\n",
              "      <td>Taxi 5</td>\n",
              "      <td>4109407</td>\n",
              "    </tr>\n",
              "    <tr>\n",
              "      <th>20</th>\n",
              "      <td>Solo: A Star Wars Story</td>\n",
              "      <td>4015319</td>\n",
              "    </tr>\n",
              "    <tr>\n",
              "      <th>29</th>\n",
              "      <td>Hotel Transylvania 3: Summer Vacation</td>\n",
              "      <td>3929857</td>\n",
              "    </tr>\n",
              "    <tr>\n",
              "      <th>47</th>\n",
              "      <td>Fantastic Beasts: The Crimes of Grindelwald</td>\n",
              "      <td>3656409</td>\n",
              "    </tr>\n",
              "    <tr>\n",
              "      <th>13</th>\n",
              "      <td>Ready Player One</td>\n",
              "      <td>3140585</td>\n",
              "    </tr>\n",
              "    <tr>\n",
              "      <th>11</th>\n",
              "      <td>Rolling to You</td>\n",
              "      <td>3073866</td>\n",
              "    </tr>\n",
              "    <tr>\n",
              "      <th>41</th>\n",
              "      <td>Venom</td>\n",
              "      <td>3019547</td>\n",
              "    </tr>\n",
              "    <tr>\n",
              "      <th>32</th>\n",
              "      <td>Mission: Impossible – Fallout</td>\n",
              "      <td>2873390</td>\n",
              "    </tr>\n",
              "    <tr>\n",
              "      <th>3</th>\n",
              "      <td>The Post</td>\n",
              "      <td>2771269</td>\n",
              "    </tr>\n",
              "    <tr>\n",
              "      <th>21</th>\n",
              "      <td>Solo: A Star Wars Story</td>\n",
              "      <td>2770078</td>\n",
              "    </tr>\n",
              "    <tr>\n",
              "      <th>24</th>\n",
              "      <td>Jurassic World: Fallen Kingdom</td>\n",
              "      <td>2520159</td>\n",
              "    </tr>\n",
              "    <tr>\n",
              "      <th>34</th>\n",
              "      <td>The Meg</td>\n",
              "      <td>2513203</td>\n",
              "    </tr>\n",
              "    <tr>\n",
              "      <th>38</th>\n",
              "      <td>The Nun</td>\n",
              "      <td>2254244</td>\n",
              "    </tr>\n",
              "    <tr>\n",
              "      <th>36</th>\n",
              "      <td>Première année</td>\n",
              "      <td>2222791</td>\n",
              "    </tr>\n",
              "    <tr>\n",
              "      <th>1</th>\n",
              "      <td>Jumanji: Welcome to the Jungle</td>\n",
              "      <td>2127871</td>\n",
              "    </tr>\n",
              "    <tr>\n",
              "      <th>2</th>\n",
              "      <td>Brillantissime</td>\n",
              "      <td>2006033</td>\n",
              "    </tr>\n",
              "    <tr>\n",
              "      <th>25</th>\n",
              "      <td>Jurassic World: Fallen Kingdom</td>\n",
              "      <td>1740016</td>\n",
              "    </tr>\n",
              "    <tr>\n",
              "      <th>35</th>\n",
              "      <td>Photo de Famille</td>\n",
              "      <td>1414632</td>\n",
              "    </tr>\n",
              "  </tbody>\n",
              "</table>\n",
              "</div>"
            ],
            "text/plain": [
              "                                           Film     Gross\n",
              "16                       Avengers: Infinity War  17645304\n",
              "8                            La ch'tite famille  16739183\n",
              "4                                   Les Tuche 3  16604101\n",
              "45  Fantastic Beasts: The Crimes of Grindelwald  11438486\n",
              "14                                       Taxi 5  10568544\n",
              "43                                 Sink or Swim   9676385\n",
              "22               Jurassic World: Fallen Kingdom   9579503\n",
              "9                            La ch'tite famille   9546133\n",
              "26                                Incredibles 2   9454086\n",
              "42                                 Sink or Swim   9051705\n",
              "19                                   Deadpool 2   8836807\n",
              "5                                   Les Tuche 3   8753427\n",
              "30                Mission: Impossible – Fallout   8193447\n",
              "6                                 Black Panther   7627163\n",
              "17                       Avengers: Infinity War   6891789\n",
              "48      Asterix: The Secret of the Magic Potion   6863693\n",
              "40                                        Venom   6646527\n",
              "0                      Star Wars: The Last Jedi   6557062\n",
              "46  Fantastic Beasts: The Crimes of Grindelwald   6378619\n",
              "18                       Avengers: Infinity War   6273652\n",
              "39                                       Alad'2   6228621\n",
              "7                                 Black Panther   5637555\n",
              "12                             Ready Player One   5484062\n",
              "10                           La ch'tite famille   5278842\n",
              "44                            Bohemian Rhapsody   5154997\n",
              "27                                Incredibles 2   5152960\n",
              "28                                Incredibles 2   4859634\n",
              "23               Jurassic World: Fallen Kingdom   4791805\n",
              "33                                      The Meg   4513632\n",
              "37                                      The Nun   4425722\n",
              "31                Mission: Impossible – Fallout   4350586\n",
              "49      Asterix: The Secret of the Magic Potion   4187527\n",
              "15                                       Taxi 5   4109407\n",
              "20                      Solo: A Star Wars Story   4015319\n",
              "29        Hotel Transylvania 3: Summer Vacation   3929857\n",
              "47  Fantastic Beasts: The Crimes of Grindelwald   3656409\n",
              "13                             Ready Player One   3140585\n",
              "11                               Rolling to You   3073866\n",
              "41                                        Venom   3019547\n",
              "32                Mission: Impossible – Fallout   2873390\n",
              "3                                      The Post   2771269\n",
              "21                      Solo: A Star Wars Story   2770078\n",
              "24               Jurassic World: Fallen Kingdom   2520159\n",
              "34                                      The Meg   2513203\n",
              "38                                      The Nun   2254244\n",
              "36                               Première année   2222791\n",
              "1                Jumanji: Welcome to the Jungle   2127871\n",
              "2                                Brillantissime   2006033\n",
              "25               Jurassic World: Fallen Kingdom   1740016\n",
              "35                             Photo de Famille   1414632"
            ]
          },
          "metadata": {
            "tags": []
          },
          "execution_count": 32
        }
      ]
    },
    {
      "cell_type": "markdown",
      "metadata": {
        "id": "jZ3hTCrHS4P3"
      },
      "source": [
        "В этот DataFrame добавляется нежелательный столбец («index»)"
      ]
    },
    {
      "cell_type": "code",
      "metadata": {
        "id": "2Z68RG5oS8kE"
      },
      "source": [
        "df1.drop(['index'],axis=1,inplace=True)"
      ],
      "execution_count": null,
      "outputs": []
    },
    {
      "cell_type": "code",
      "metadata": {
        "id": "u3qCrwtuTLU6",
        "colab": {
          "base_uri": "https://localhost:8080/",
          "height": 555
        },
        "outputId": "6da9a963-52db-4275-8727-b0ab0a314788"
      },
      "source": [
        "plt.figure(figsize=(10,5))\n",
        "ax=sns.barplot(x='Film',y='Gross',data=df1.head(5))\n",
        "ax.set_xticklabels(labels=df1.head()['Film'],rotation=75)\n",
        "ax.set_title(\"Top 5 Films per revenue\")\n",
        "ax.set_ylabel(\"Gross revenue\")\n",
        "for p in ax.patches:\n",
        "  ax.annotate(p.get_height(),(p.get_x()+p.get_width()/2,p.get_height()),ha='center',va='bottom')"
      ],
      "execution_count": 35,
      "outputs": [
        {
          "output_type": "display_data",
          "data": {
            "image/png": "[encoded data removed]",
            "text/plain": [
              "<Figure size 720x360 with 1 Axes>"
            ]
          },
          "metadata": {
            "tags": [],
            "needs_background": "light"
          }
        }
      ]
    },
    {
      "cell_type": "markdown",
      "metadata": {
        "id": "UdYoKFT-T_OX"
      },
      "source": [
        "Чтобы отобразить долю десяти лучших фильмов (по выручке), мы создаем круговую диаграмму."
      ]
    },
    {
      "cell_type": "code",
      "metadata": {
        "id": "K9YQypn8T2PJ",
        "colab": {
          "base_uri": "https://localhost:8080/",
          "height": 303
        },
        "outputId": "10523ade-2970-4f18-e26f-8c3ec1e4db46"
      },
      "source": [
        "df1['Gross'].head(10).plot(kind='pie',autopct='%.2f%%',labels=df1['Film'],figsize=(10,5));"
      ],
      "execution_count": 37,
      "outputs": [
        {
          "output_type": "display_data",
          "data": {
            "image/png": "[encoded data removed]",
            "text/plain": [
              "<Figure size 720x360 with 1 Axes>"
            ]
          },
          "metadata": {
            "tags": []
          }
        }
      ]
    },
    {
      "cell_type": "markdown",
      "metadata": {
        "id": "2l-4y9JCUJ3A"
      },
      "source": [
        "Сначала мы создаем еще один DataFrame, который собирает данные за месяц, вычисляя в среднем за каждый месяц"
      ]
    },
    {
      "cell_type": "code",
      "metadata": {
        "id": "0CaQqkDMUM-l",
        "colab": {
          "base_uri": "https://localhost:8080/",
          "height": 616
        },
        "outputId": "d06414c7-311e-4a98-f7b1-254efb070692"
      },
      "source": [
        "df2=df.groupby('Month')['Gross'].mean()\n",
        "df2.plot(kind='line',figsize=(10,10));"
      ],
      "execution_count": 40,
      "outputs": [
        {
          "output_type": "display_data",
          "data": {
            "image/png": "[encoded data removed]",
            "text/plain": [
              "<Figure size 720x720 with 1 Axes>"
            ]
          },
          "metadata": {
            "tags": [],
            "needs_background": "light"
          }
        }
      ]
    },
    {
      "cell_type": "markdown",
      "metadata": {
        "id": "VzHUvA32Uaxm"
      },
      "source": [
        "# **Шаг 4: построение выводов на основе анализа и визуализаций**"
      ]
    },
    {
      "cell_type": "markdown",
      "metadata": {
        "id": "UWJqsop6UcsA"
      },
      "source": [
        "1. Средний ежемесячный доход сильно колеблется, возможно\n",
        "зависит от месяца выпуска фильмов, который может требуют дальнейшего анализа на протяжении многих лет.\n",
        "  2. Три самых прибыльных фильма во Франции в 2018 году вышли Avengers, La Ch’tite Famille и Les Tuche 3."
      ]
    },
    {
      "cell_type": "markdown",
      "metadata": {
        "id": "2okBVuO2UBlM"
      },
      "source": [
        "# Вариант 11\n",
        "неструктурированных данных: использование данных с веб-страницы, обеспечивающей информацией о самых кассовых фильмах Румынии.\n",
        "List of highest-grossing films in Romania\n"
      ]
    },
    {
      "cell_type": "code",
      "metadata": {
        "id": "YqXiARhs2ivF"
      },
      "source": [
        "#importing the libraries\n",
        "import requests #библиотека запросов\n",
        "import pandas as pd\n",
        "import seaborn as sns\n",
        "import matplotlib.pyplot as plt\n",
        "#Importing the data from the webpage into a DataFrame\n",
        "url1='https://en.wikipedia.org/wiki/List_of_highest-grossing_films_in_Romania'\n",
        "req1=requests.get(url1)\n",
        "data=pd.read_html(req1.text)\n",
        "df4=data[0]"
      ],
      "execution_count": 162,
      "outputs": []
    },
    {
      "cell_type": "code",
      "metadata": {
        "id": "faqkac7FEbC-",
        "colab": {
          "base_uri": "https://localhost:8080/",
          "height": 1000
        },
        "outputId": "4981b3a6-dc02-475a-f8b0-8d358d0b6990"
      },
      "source": [
        "df4"
      ],
      "execution_count": 163,
      "outputs": [
        {
          "output_type": "execute_result",
          "data": {
            "text/html": [
              "<div>\n",
              "<style scoped>\n",
              "    .dataframe tbody tr th:only-of-type {\n",
              "        vertical-align: middle;\n",
              "    }\n",
              "\n",
              "    .dataframe tbody tr th {\n",
              "        vertical-align: top;\n",
              "    }\n",
              "\n",
              "    .dataframe thead th {\n",
              "        text-align: right;\n",
              "    }\n",
              "</style>\n",
              "<table border=\"1\" class=\"dataframe\">\n",
              "  <thead>\n",
              "    <tr style=\"text-align: right;\">\n",
              "      <th></th>\n",
              "      <th>Rank</th>\n",
              "      <th>Title</th>\n",
              "      <th>Romanian Leu</th>\n",
              "      <th>U.S. dollar</th>\n",
              "      <th>Year</th>\n",
              "      <th>Ref</th>\n",
              "    </tr>\n",
              "  </thead>\n",
              "  <tbody>\n",
              "    <tr>\n",
              "      <th>0</th>\n",
              "      <td>1</td>\n",
              "      <td>Avatar</td>\n",
              "      <td>18537471</td>\n",
              "      <td>$6,317,366</td>\n",
              "      <td>2009</td>\n",
              "      <td>[# 1]</td>\n",
              "    </tr>\n",
              "    <tr>\n",
              "      <th>1</th>\n",
              "      <td>2</td>\n",
              "      <td>Aquaman</td>\n",
              "      <td>15722391</td>\n",
              "      <td>$3,848,753</td>\n",
              "      <td>2018</td>\n",
              "      <td>[# 2]</td>\n",
              "    </tr>\n",
              "    <tr>\n",
              "      <th>2</th>\n",
              "      <td>3</td>\n",
              "      <td>Avengers: Endgame</td>\n",
              "      <td>14401724</td>\n",
              "      <td>$3,379,432</td>\n",
              "      <td>2019</td>\n",
              "      <td>[# 3]</td>\n",
              "    </tr>\n",
              "    <tr>\n",
              "      <th>3</th>\n",
              "      <td>4</td>\n",
              "      <td>Star Wars: The Force Awakens</td>\n",
              "      <td>13515925</td>\n",
              "      <td>$3,256,966</td>\n",
              "      <td>2015</td>\n",
              "      <td>[# 4]</td>\n",
              "    </tr>\n",
              "    <tr>\n",
              "      <th>4</th>\n",
              "      <td>5</td>\n",
              "      <td>Frozen II</td>\n",
              "      <td>13453922</td>\n",
              "      <td>$3,119,154</td>\n",
              "      <td>2019</td>\n",
              "      <td>[# 5]</td>\n",
              "    </tr>\n",
              "    <tr>\n",
              "      <th>5</th>\n",
              "      <td>6</td>\n",
              "      <td>The Fate of the Furious</td>\n",
              "      <td>13316052</td>\n",
              "      <td>$3,171,017</td>\n",
              "      <td>2017</td>\n",
              "      <td>[# 6]</td>\n",
              "    </tr>\n",
              "    <tr>\n",
              "      <th>6</th>\n",
              "      <td>7</td>\n",
              "      <td>Miami Bici</td>\n",
              "      <td>11603217</td>\n",
              "      <td>$2,666,761</td>\n",
              "      <td>2020</td>\n",
              "      <td>[# 7]</td>\n",
              "    </tr>\n",
              "    <tr>\n",
              "      <th>7</th>\n",
              "      <td>8</td>\n",
              "      <td>Furious 7</td>\n",
              "      <td>11187310</td>\n",
              "      <td>$2,739,771</td>\n",
              "      <td>2015</td>\n",
              "      <td>[# 8]</td>\n",
              "    </tr>\n",
              "    <tr>\n",
              "      <th>8</th>\n",
              "      <td>9</td>\n",
              "      <td>Joker</td>\n",
              "      <td>11126579</td>\n",
              "      <td>$2,586,493</td>\n",
              "      <td>2019</td>\n",
              "      <td>[# 9]</td>\n",
              "    </tr>\n",
              "    <tr>\n",
              "      <th>9</th>\n",
              "      <td>10</td>\n",
              "      <td>Jumanji: Welcome to the Jungle</td>\n",
              "      <td>11093679</td>\n",
              "      <td>$2,895,908</td>\n",
              "      <td>2017</td>\n",
              "      <td>[# 10]</td>\n",
              "    </tr>\n",
              "    <tr>\n",
              "      <th>10</th>\n",
              "      <td>11</td>\n",
              "      <td>The Hobbit: The Battle of the Five Armies</td>\n",
              "      <td>10858515</td>\n",
              "      <td>$2,939,962</td>\n",
              "      <td>2014</td>\n",
              "      <td>[# 11]</td>\n",
              "    </tr>\n",
              "    <tr>\n",
              "      <th>11</th>\n",
              "      <td>12</td>\n",
              "      <td>Jumanji: The Next Level</td>\n",
              "      <td>10574332</td>\n",
              "      <td>$2,461,607</td>\n",
              "      <td>2019</td>\n",
              "      <td>[# 7]</td>\n",
              "    </tr>\n",
              "    <tr>\n",
              "      <th>12</th>\n",
              "      <td>13</td>\n",
              "      <td>Venom</td>\n",
              "      <td>10029468</td>\n",
              "      <td>$2,467,892</td>\n",
              "      <td>2018</td>\n",
              "      <td>[# 12]</td>\n",
              "    </tr>\n",
              "    <tr>\n",
              "      <th>13</th>\n",
              "      <td>14</td>\n",
              "      <td>Avengers: Infinity War</td>\n",
              "      <td>9992353</td>\n",
              "      <td>$2,568,252</td>\n",
              "      <td>2018</td>\n",
              "      <td>[# 13]</td>\n",
              "    </tr>\n",
              "    <tr>\n",
              "      <th>14</th>\n",
              "      <td>15</td>\n",
              "      <td>Fast &amp; Furious Presents: Hobbs &amp; Shaw</td>\n",
              "      <td>9793794</td>\n",
              "      <td>$2,299,665</td>\n",
              "      <td>2019</td>\n",
              "      <td>[# 14]</td>\n",
              "    </tr>\n",
              "    <tr>\n",
              "      <th>15</th>\n",
              "      <td>16</td>\n",
              "      <td>Bad Boys for Life</td>\n",
              "      <td>9381164</td>\n",
              "      <td>$2,168,178</td>\n",
              "      <td>2020</td>\n",
              "      <td>[# 15]</td>\n",
              "    </tr>\n",
              "    <tr>\n",
              "      <th>16</th>\n",
              "      <td>17</td>\n",
              "      <td>Bohemian Rhapsody</td>\n",
              "      <td>9213080</td>\n",
              "      <td>$2,245,666</td>\n",
              "      <td>2018</td>\n",
              "      <td>[# 16]</td>\n",
              "    </tr>\n",
              "    <tr>\n",
              "      <th>17</th>\n",
              "      <td>18</td>\n",
              "      <td>Pirates of the Caribbean: Dead Men Tell No Tales</td>\n",
              "      <td>9159517</td>\n",
              "      <td>$2,256,356</td>\n",
              "      <td>2017</td>\n",
              "      <td>[# 17]</td>\n",
              "    </tr>\n",
              "    <tr>\n",
              "      <th>18</th>\n",
              "      <td>19</td>\n",
              "      <td>Star Wars: The Last Jedi</td>\n",
              "      <td>8664484</td>\n",
              "      <td>$2,223,329</td>\n",
              "      <td>2017</td>\n",
              "      <td>[# 18]</td>\n",
              "    </tr>\n",
              "    <tr>\n",
              "      <th>19</th>\n",
              "      <td>20</td>\n",
              "      <td>Suicide Squad</td>\n",
              "      <td>8323197</td>\n",
              "      <td>$2,089,607</td>\n",
              "      <td>2016</td>\n",
              "      <td>[# 19]</td>\n",
              "    </tr>\n",
              "    <tr>\n",
              "      <th>20</th>\n",
              "      <td>21</td>\n",
              "      <td>The Hobbit: An Unexpected Journey</td>\n",
              "      <td>8278047</td>\n",
              "      <td>$2,458,647</td>\n",
              "      <td>2012</td>\n",
              "      <td>[# 20]</td>\n",
              "    </tr>\n",
              "    <tr>\n",
              "      <th>21</th>\n",
              "      <td>22</td>\n",
              "      <td>Star Wars: The Rise of Skywalker</td>\n",
              "      <td>8228799</td>\n",
              "      <td>$1,916,191</td>\n",
              "      <td>2019</td>\n",
              "      <td>[# 14]</td>\n",
              "    </tr>\n",
              "    <tr>\n",
              "      <th>22</th>\n",
              "      <td>23</td>\n",
              "      <td>The Lion King</td>\n",
              "      <td>8199103</td>\n",
              "      <td>$1,931,609</td>\n",
              "      <td>2019</td>\n",
              "      <td>[# 21]</td>\n",
              "    </tr>\n",
              "    <tr>\n",
              "      <th>23</th>\n",
              "      <td>24</td>\n",
              "      <td>Minions</td>\n",
              "      <td>8148891</td>\n",
              "      <td>$2,033,405</td>\n",
              "      <td>2015</td>\n",
              "      <td>[# 22]</td>\n",
              "    </tr>\n",
              "    <tr>\n",
              "      <th>24</th>\n",
              "      <td>25</td>\n",
              "      <td>Thor: Ragnarok</td>\n",
              "      <td>8112273</td>\n",
              "      <td>$2,054,383</td>\n",
              "      <td>2017</td>\n",
              "      <td>[# 23]</td>\n",
              "    </tr>\n",
              "    <tr>\n",
              "      <th>25</th>\n",
              "      <td>26</td>\n",
              "      <td>The Hobbit: The Desolation of Smaug</td>\n",
              "      <td>7959529</td>\n",
              "      <td>$2,437,723</td>\n",
              "      <td>2013</td>\n",
              "      <td>[# 24]</td>\n",
              "    </tr>\n",
              "    <tr>\n",
              "      <th>26</th>\n",
              "      <td>27</td>\n",
              "      <td>Black Panther</td>\n",
              "      <td>7590824</td>\n",
              "      <td>$2,013,517</td>\n",
              "      <td>2018</td>\n",
              "      <td>[# 25]</td>\n",
              "    </tr>\n",
              "    <tr>\n",
              "      <th>27</th>\n",
              "      <td>28</td>\n",
              "      <td>Fifty Shades Freed</td>\n",
              "      <td>7299098</td>\n",
              "      <td>$1,936,462</td>\n",
              "      <td>2018</td>\n",
              "      <td>[# 26]</td>\n",
              "    </tr>\n",
              "    <tr>\n",
              "      <th>28</th>\n",
              "      <td>29</td>\n",
              "      <td>The Jungle Book</td>\n",
              "      <td>7187836</td>\n",
              "      <td>$1,812,004</td>\n",
              "      <td>2016</td>\n",
              "      <td>[# 27]</td>\n",
              "    </tr>\n",
              "    <tr>\n",
              "      <th>29</th>\n",
              "      <td>30</td>\n",
              "      <td>Captain Marvel</td>\n",
              "      <td>7182977</td>\n",
              "      <td>$1,703,140</td>\n",
              "      <td>2019</td>\n",
              "      <td>[# 28]</td>\n",
              "    </tr>\n",
              "    <tr>\n",
              "      <th>30</th>\n",
              "      <td>31</td>\n",
              "      <td>Deadpool 2</td>\n",
              "      <td>7075184</td>\n",
              "      <td>$1,788,316</td>\n",
              "      <td>2018</td>\n",
              "      <td>[# 29]</td>\n",
              "    </tr>\n",
              "    <tr>\n",
              "      <th>31</th>\n",
              "      <td>32</td>\n",
              "      <td>Ice Age: Continental Drift</td>\n",
              "      <td>7036356</td>\n",
              "      <td>$1,905,338</td>\n",
              "      <td>2012</td>\n",
              "      <td>[# 30]</td>\n",
              "    </tr>\n",
              "    <tr>\n",
              "      <th>32</th>\n",
              "      <td>33</td>\n",
              "      <td>Hotel Transylvania 3: Summer Vacation</td>\n",
              "      <td>7032003</td>\n",
              "      <td>$1,754,203</td>\n",
              "      <td>2018</td>\n",
              "      <td>[# 31]</td>\n",
              "    </tr>\n",
              "    <tr>\n",
              "      <th>33</th>\n",
              "      <td>34</td>\n",
              "      <td>Fifty Shades Darker</td>\n",
              "      <td>6987350</td>\n",
              "      <td>$1,646,591</td>\n",
              "      <td>2017</td>\n",
              "      <td>[# 32]</td>\n",
              "    </tr>\n",
              "    <tr>\n",
              "      <th>34</th>\n",
              "      <td>35</td>\n",
              "      <td>Ice Age: Dawn of the Dinosaurs</td>\n",
              "      <td>6876271</td>\n",
              "      <td>$2,298,007</td>\n",
              "      <td>2009</td>\n",
              "      <td>[# 33]</td>\n",
              "    </tr>\n",
              "    <tr>\n",
              "      <th>35</th>\n",
              "      <td>36</td>\n",
              "      <td>Maleficent: Mistress of Evil</td>\n",
              "      <td>6775189</td>\n",
              "      <td>$1,580,629</td>\n",
              "      <td>2019</td>\n",
              "      <td>[# 34]</td>\n",
              "    </tr>\n",
              "    <tr>\n",
              "      <th>36</th>\n",
              "      <td>37</td>\n",
              "      <td>Pirates of the Caribbean: On Stranger Tides</td>\n",
              "      <td>6725190</td>\n",
              "      <td>$2,320,056</td>\n",
              "      <td>2011</td>\n",
              "      <td>[# 35]</td>\n",
              "    </tr>\n",
              "    <tr>\n",
              "      <th>37</th>\n",
              "      <td>38</td>\n",
              "      <td>Deadpool</td>\n",
              "      <td>6537216</td>\n",
              "      <td>$1,631,763</td>\n",
              "      <td>2016</td>\n",
              "      <td>[# 36]</td>\n",
              "    </tr>\n",
              "    <tr>\n",
              "      <th>38</th>\n",
              "      <td>39</td>\n",
              "      <td>Doctor Strange</td>\n",
              "      <td>6497513</td>\n",
              "      <td>$1,562,847</td>\n",
              "      <td>2016</td>\n",
              "      <td>[# 37]</td>\n",
              "    </tr>\n",
              "    <tr>\n",
              "      <th>39</th>\n",
              "      <td>40</td>\n",
              "      <td>5Gang: A Different Kind of Christmas</td>\n",
              "      <td>6488206</td>\n",
              "      <td>$1,510,174</td>\n",
              "      <td>2019</td>\n",
              "      <td>[# 7]</td>\n",
              "    </tr>\n",
              "    <tr>\n",
              "      <th>40</th>\n",
              "      <td>41</td>\n",
              "      <td>Beauty and the Beast</td>\n",
              "      <td>6455767</td>\n",
              "      <td>$1,526,254</td>\n",
              "      <td>2017</td>\n",
              "      <td>[# 38]</td>\n",
              "    </tr>\n",
              "    <tr>\n",
              "      <th>41</th>\n",
              "      <td>42</td>\n",
              "      <td>Batman v Superman: Dawn of Justice</td>\n",
              "      <td>6305345</td>\n",
              "      <td>$1,592,188</td>\n",
              "      <td>2016</td>\n",
              "      <td>[# 39]</td>\n",
              "    </tr>\n",
              "    <tr>\n",
              "      <th>42</th>\n",
              "      <td>43</td>\n",
              "      <td>Spectre</td>\n",
              "      <td>6291624</td>\n",
              "      <td>$1,524,780</td>\n",
              "      <td>2015</td>\n",
              "      <td>[# 40]</td>\n",
              "    </tr>\n",
              "    <tr>\n",
              "      <th>43</th>\n",
              "      <td>44</td>\n",
              "      <td>The Nun</td>\n",
              "      <td>6078556</td>\n",
              "      <td>$1,523,893</td>\n",
              "      <td>2018</td>\n",
              "      <td>[# 41]</td>\n",
              "    </tr>\n",
              "    <tr>\n",
              "      <th>44</th>\n",
              "      <td>45</td>\n",
              "      <td>Interstellar</td>\n",
              "      <td>5978529</td>\n",
              "      <td>$1,667,847</td>\n",
              "      <td>2014</td>\n",
              "      <td>[# 42]</td>\n",
              "    </tr>\n",
              "    <tr>\n",
              "      <th>45</th>\n",
              "      <td>46</td>\n",
              "      <td>Assassin's Creed</td>\n",
              "      <td>5921682</td>\n",
              "      <td>$1,398,882</td>\n",
              "      <td>2016</td>\n",
              "      <td>[# 43]</td>\n",
              "    </tr>\n",
              "    <tr>\n",
              "      <th>46</th>\n",
              "      <td>47</td>\n",
              "      <td>Justice League</td>\n",
              "      <td>5863900</td>\n",
              "      <td>$1,493,614</td>\n",
              "      <td>2017</td>\n",
              "      <td>[# 44]</td>\n",
              "    </tr>\n",
              "    <tr>\n",
              "      <th>47</th>\n",
              "      <td>48</td>\n",
              "      <td>Fifty Shades of Grey</td>\n",
              "      <td>5731176</td>\n",
              "      <td>$1,460,972</td>\n",
              "      <td>2015</td>\n",
              "      <td>[# 45]</td>\n",
              "    </tr>\n",
              "    <tr>\n",
              "      <th>48</th>\n",
              "      <td>49</td>\n",
              "      <td>Dirty Grandpa</td>\n",
              "      <td>5674883</td>\n",
              "      <td>$1,415,810</td>\n",
              "      <td>2016</td>\n",
              "      <td>[# 46]</td>\n",
              "    </tr>\n",
              "    <tr>\n",
              "      <th>49</th>\n",
              "      <td>50</td>\n",
              "      <td>Rogue One: A Star Wars Story</td>\n",
              "      <td>5665732</td>\n",
              "      <td>$1,316,069</td>\n",
              "      <td>2016</td>\n",
              "      <td>[# 45]</td>\n",
              "    </tr>\n",
              "  </tbody>\n",
              "</table>\n",
              "</div>"
            ],
            "text/plain": [
              "    Rank                                             Title  ...  Year     Ref\n",
              "0      1                                            Avatar  ...  2009   [# 1]\n",
              "1      2                                           Aquaman  ...  2018   [# 2]\n",
              "2      3                                 Avengers: Endgame  ...  2019   [# 3]\n",
              "3      4                      Star Wars: The Force Awakens  ...  2015   [# 4]\n",
              "4      5                                         Frozen II  ...  2019   [# 5]\n",
              "5      6                           The Fate of the Furious  ...  2017   [# 6]\n",
              "6      7                                        Miami Bici  ...  2020   [# 7]\n",
              "7      8                                         Furious 7  ...  2015   [# 8]\n",
              "8      9                                             Joker  ...  2019   [# 9]\n",
              "9     10                    Jumanji: Welcome to the Jungle  ...  2017  [# 10]\n",
              "10    11         The Hobbit: The Battle of the Five Armies  ...  2014  [# 11]\n",
              "11    12                           Jumanji: The Next Level  ...  2019   [# 7]\n",
              "12    13                                             Venom  ...  2018  [# 12]\n",
              "13    14                            Avengers: Infinity War  ...  2018  [# 13]\n",
              "14    15             Fast & Furious Presents: Hobbs & Shaw  ...  2019  [# 14]\n",
              "15    16                                 Bad Boys for Life  ...  2020  [# 15]\n",
              "16    17                                 Bohemian Rhapsody  ...  2018  [# 16]\n",
              "17    18  Pirates of the Caribbean: Dead Men Tell No Tales  ...  2017  [# 17]\n",
              "18    19                          Star Wars: The Last Jedi  ...  2017  [# 18]\n",
              "19    20                                     Suicide Squad  ...  2016  [# 19]\n",
              "20    21                 The Hobbit: An Unexpected Journey  ...  2012  [# 20]\n",
              "21    22                  Star Wars: The Rise of Skywalker  ...  2019  [# 14]\n",
              "22    23                                     The Lion King  ...  2019  [# 21]\n",
              "23    24                                           Minions  ...  2015  [# 22]\n",
              "24    25                                    Thor: Ragnarok  ...  2017  [# 23]\n",
              "25    26               The Hobbit: The Desolation of Smaug  ...  2013  [# 24]\n",
              "26    27                                     Black Panther  ...  2018  [# 25]\n",
              "27    28                                Fifty Shades Freed  ...  2018  [# 26]\n",
              "28    29                                   The Jungle Book  ...  2016  [# 27]\n",
              "29    30                                    Captain Marvel  ...  2019  [# 28]\n",
              "30    31                                        Deadpool 2  ...  2018  [# 29]\n",
              "31    32                        Ice Age: Continental Drift  ...  2012  [# 30]\n",
              "32    33             Hotel Transylvania 3: Summer Vacation  ...  2018  [# 31]\n",
              "33    34                               Fifty Shades Darker  ...  2017  [# 32]\n",
              "34    35                    Ice Age: Dawn of the Dinosaurs  ...  2009  [# 33]\n",
              "35    36                      Maleficent: Mistress of Evil  ...  2019  [# 34]\n",
              "36    37       Pirates of the Caribbean: On Stranger Tides  ...  2011  [# 35]\n",
              "37    38                                          Deadpool  ...  2016  [# 36]\n",
              "38    39                                    Doctor Strange  ...  2016  [# 37]\n",
              "39    40              5Gang: A Different Kind of Christmas  ...  2019   [# 7]\n",
              "40    41                              Beauty and the Beast  ...  2017  [# 38]\n",
              "41    42                Batman v Superman: Dawn of Justice  ...  2016  [# 39]\n",
              "42    43                                           Spectre  ...  2015  [# 40]\n",
              "43    44                                           The Nun  ...  2018  [# 41]\n",
              "44    45                                      Interstellar  ...  2014  [# 42]\n",
              "45    46                                  Assassin's Creed  ...  2016  [# 43]\n",
              "46    47                                    Justice League  ...  2017  [# 44]\n",
              "47    48                              Fifty Shades of Grey  ...  2015  [# 45]\n",
              "48    49                                     Dirty Grandpa  ...  2016  [# 46]\n",
              "49    50                      Rogue One: A Star Wars Story  ...  2016  [# 45]\n",
              "\n",
              "[50 rows x 6 columns]"
            ]
          },
          "metadata": {
            "tags": []
          },
          "execution_count": 163
        }
      ]
    },
    {
      "cell_type": "code",
      "metadata": {
        "colab": {
          "base_uri": "https://localhost:8080/",
          "height": 195
        },
        "id": "KFFzd5N5TycT",
        "outputId": "a8cf1cd7-3f78-48c1-e5f4-da426331b7f9"
      },
      "source": [
        "df4.head(5)"
      ],
      "execution_count": 164,
      "outputs": [
        {
          "output_type": "execute_result",
          "data": {
            "text/html": [
              "<div>\n",
              "<style scoped>\n",
              "    .dataframe tbody tr th:only-of-type {\n",
              "        vertical-align: middle;\n",
              "    }\n",
              "\n",
              "    .dataframe tbody tr th {\n",
              "        vertical-align: top;\n",
              "    }\n",
              "\n",
              "    .dataframe thead th {\n",
              "        text-align: right;\n",
              "    }\n",
              "</style>\n",
              "<table border=\"1\" class=\"dataframe\">\n",
              "  <thead>\n",
              "    <tr style=\"text-align: right;\">\n",
              "      <th></th>\n",
              "      <th>Rank</th>\n",
              "      <th>Title</th>\n",
              "      <th>Romanian Leu</th>\n",
              "      <th>U.S. dollar</th>\n",
              "      <th>Year</th>\n",
              "      <th>Ref</th>\n",
              "    </tr>\n",
              "  </thead>\n",
              "  <tbody>\n",
              "    <tr>\n",
              "      <th>0</th>\n",
              "      <td>1</td>\n",
              "      <td>Avatar</td>\n",
              "      <td>18537471</td>\n",
              "      <td>$6,317,366</td>\n",
              "      <td>2009</td>\n",
              "      <td>[# 1]</td>\n",
              "    </tr>\n",
              "    <tr>\n",
              "      <th>1</th>\n",
              "      <td>2</td>\n",
              "      <td>Aquaman</td>\n",
              "      <td>15722391</td>\n",
              "      <td>$3,848,753</td>\n",
              "      <td>2018</td>\n",
              "      <td>[# 2]</td>\n",
              "    </tr>\n",
              "    <tr>\n",
              "      <th>2</th>\n",
              "      <td>3</td>\n",
              "      <td>Avengers: Endgame</td>\n",
              "      <td>14401724</td>\n",
              "      <td>$3,379,432</td>\n",
              "      <td>2019</td>\n",
              "      <td>[# 3]</td>\n",
              "    </tr>\n",
              "    <tr>\n",
              "      <th>3</th>\n",
              "      <td>4</td>\n",
              "      <td>Star Wars: The Force Awakens</td>\n",
              "      <td>13515925</td>\n",
              "      <td>$3,256,966</td>\n",
              "      <td>2015</td>\n",
              "      <td>[# 4]</td>\n",
              "    </tr>\n",
              "    <tr>\n",
              "      <th>4</th>\n",
              "      <td>5</td>\n",
              "      <td>Frozen II</td>\n",
              "      <td>13453922</td>\n",
              "      <td>$3,119,154</td>\n",
              "      <td>2019</td>\n",
              "      <td>[# 5]</td>\n",
              "    </tr>\n",
              "  </tbody>\n",
              "</table>\n",
              "</div>"
            ],
            "text/plain": [
              "   Rank                         Title  Romanian Leu U.S. dollar  Year    Ref\n",
              "0     1                        Avatar      18537471  $6,317,366  2009  [# 1]\n",
              "1     2                       Aquaman      15722391  $3,848,753  2018  [# 2]\n",
              "2     3             Avengers: Endgame      14401724  $3,379,432  2019  [# 3]\n",
              "3     4  Star Wars: The Force Awakens      13515925  $3,256,966  2015  [# 4]\n",
              "4     5                     Frozen II      13453922  $3,119,154  2019  [# 5]"
            ]
          },
          "metadata": {
            "tags": []
          },
          "execution_count": 164
        }
      ]
    },
    {
      "cell_type": "code",
      "metadata": {
        "colab": {
          "base_uri": "https://localhost:8080/"
        },
        "id": "nTfV0HlpT2Cm",
        "outputId": "4a6d9eba-b550-4882-cf49-e540be5309f6"
      },
      "source": [
        "df4.info()"
      ],
      "execution_count": 165,
      "outputs": [
        {
          "output_type": "stream",
          "text": [
            "<class 'pandas.core.frame.DataFrame'>\n",
            "RangeIndex: 50 entries, 0 to 49\n",
            "Data columns (total 6 columns):\n",
            " #   Column        Non-Null Count  Dtype \n",
            "---  ------        --------------  ----- \n",
            " 0   Rank          50 non-null     int64 \n",
            " 1   Title         50 non-null     object\n",
            " 2   Romanian Leu  50 non-null     int64 \n",
            " 3   U.S. dollar   50 non-null     object\n",
            " 4   Year          50 non-null     int64 \n",
            " 5   Ref           50 non-null     object\n",
            "dtypes: int64(3), object(3)\n",
            "memory usage: 2.5+ KB\n"
          ],
          "name": "stdout"
        }
      ]
    },
    {
      "cell_type": "code",
      "metadata": {
        "id": "tiUwsQSrT6XD"
      },
      "source": [
        "df4['U.S. dollar'] = df4['U.S. dollar'].str.replace(r\"$\",\"\").str.replace(r\",\",\"\")"
      ],
      "execution_count": 166,
      "outputs": []
    },
    {
      "cell_type": "code",
      "metadata": {
        "colab": {
          "base_uri": "https://localhost:8080/",
          "height": 1000
        },
        "id": "E19Jp-KAUtdI",
        "outputId": "5cc12809-8c8d-4602-d541-13a36594e6bf"
      },
      "source": [
        "df4"
      ],
      "execution_count": 167,
      "outputs": [
        {
          "output_type": "execute_result",
          "data": {
            "text/html": [
              "<div>\n",
              "<style scoped>\n",
              "    .dataframe tbody tr th:only-of-type {\n",
              "        vertical-align: middle;\n",
              "    }\n",
              "\n",
              "    .dataframe tbody tr th {\n",
              "        vertical-align: top;\n",
              "    }\n",
              "\n",
              "    .dataframe thead th {\n",
              "        text-align: right;\n",
              "    }\n",
              "</style>\n",
              "<table border=\"1\" class=\"dataframe\">\n",
              "  <thead>\n",
              "    <tr style=\"text-align: right;\">\n",
              "      <th></th>\n",
              "      <th>Rank</th>\n",
              "      <th>Title</th>\n",
              "      <th>Romanian Leu</th>\n",
              "      <th>U.S. dollar</th>\n",
              "      <th>Year</th>\n",
              "      <th>Ref</th>\n",
              "    </tr>\n",
              "  </thead>\n",
              "  <tbody>\n",
              "    <tr>\n",
              "      <th>0</th>\n",
              "      <td>1</td>\n",
              "      <td>Avatar</td>\n",
              "      <td>18537471</td>\n",
              "      <td>6317366</td>\n",
              "      <td>2009</td>\n",
              "      <td>[# 1]</td>\n",
              "    </tr>\n",
              "    <tr>\n",
              "      <th>1</th>\n",
              "      <td>2</td>\n",
              "      <td>Aquaman</td>\n",
              "      <td>15722391</td>\n",
              "      <td>3848753</td>\n",
              "      <td>2018</td>\n",
              "      <td>[# 2]</td>\n",
              "    </tr>\n",
              "    <tr>\n",
              "      <th>2</th>\n",
              "      <td>3</td>\n",
              "      <td>Avengers: Endgame</td>\n",
              "      <td>14401724</td>\n",
              "      <td>3379432</td>\n",
              "      <td>2019</td>\n",
              "      <td>[# 3]</td>\n",
              "    </tr>\n",
              "    <tr>\n",
              "      <th>3</th>\n",
              "      <td>4</td>\n",
              "      <td>Star Wars: The Force Awakens</td>\n",
              "      <td>13515925</td>\n",
              "      <td>3256966</td>\n",
              "      <td>2015</td>\n",
              "      <td>[# 4]</td>\n",
              "    </tr>\n",
              "    <tr>\n",
              "      <th>4</th>\n",
              "      <td>5</td>\n",
              "      <td>Frozen II</td>\n",
              "      <td>13453922</td>\n",
              "      <td>3119154</td>\n",
              "      <td>2019</td>\n",
              "      <td>[# 5]</td>\n",
              "    </tr>\n",
              "    <tr>\n",
              "      <th>5</th>\n",
              "      <td>6</td>\n",
              "      <td>The Fate of the Furious</td>\n",
              "      <td>13316052</td>\n",
              "      <td>3171017</td>\n",
              "      <td>2017</td>\n",
              "      <td>[# 6]</td>\n",
              "    </tr>\n",
              "    <tr>\n",
              "      <th>6</th>\n",
              "      <td>7</td>\n",
              "      <td>Miami Bici</td>\n",
              "      <td>11603217</td>\n",
              "      <td>2666761</td>\n",
              "      <td>2020</td>\n",
              "      <td>[# 7]</td>\n",
              "    </tr>\n",
              "    <tr>\n",
              "      <th>7</th>\n",
              "      <td>8</td>\n",
              "      <td>Furious 7</td>\n",
              "      <td>11187310</td>\n",
              "      <td>2739771</td>\n",
              "      <td>2015</td>\n",
              "      <td>[# 8]</td>\n",
              "    </tr>\n",
              "    <tr>\n",
              "      <th>8</th>\n",
              "      <td>9</td>\n",
              "      <td>Joker</td>\n",
              "      <td>11126579</td>\n",
              "      <td>2586493</td>\n",
              "      <td>2019</td>\n",
              "      <td>[# 9]</td>\n",
              "    </tr>\n",
              "    <tr>\n",
              "      <th>9</th>\n",
              "      <td>10</td>\n",
              "      <td>Jumanji: Welcome to the Jungle</td>\n",
              "      <td>11093679</td>\n",
              "      <td>2895908</td>\n",
              "      <td>2017</td>\n",
              "      <td>[# 10]</td>\n",
              "    </tr>\n",
              "    <tr>\n",
              "      <th>10</th>\n",
              "      <td>11</td>\n",
              "      <td>The Hobbit: The Battle of the Five Armies</td>\n",
              "      <td>10858515</td>\n",
              "      <td>2939962</td>\n",
              "      <td>2014</td>\n",
              "      <td>[# 11]</td>\n",
              "    </tr>\n",
              "    <tr>\n",
              "      <th>11</th>\n",
              "      <td>12</td>\n",
              "      <td>Jumanji: The Next Level</td>\n",
              "      <td>10574332</td>\n",
              "      <td>2461607</td>\n",
              "      <td>2019</td>\n",
              "      <td>[# 7]</td>\n",
              "    </tr>\n",
              "    <tr>\n",
              "      <th>12</th>\n",
              "      <td>13</td>\n",
              "      <td>Venom</td>\n",
              "      <td>10029468</td>\n",
              "      <td>2467892</td>\n",
              "      <td>2018</td>\n",
              "      <td>[# 12]</td>\n",
              "    </tr>\n",
              "    <tr>\n",
              "      <th>13</th>\n",
              "      <td>14</td>\n",
              "      <td>Avengers: Infinity War</td>\n",
              "      <td>9992353</td>\n",
              "      <td>2568252</td>\n",
              "      <td>2018</td>\n",
              "      <td>[# 13]</td>\n",
              "    </tr>\n",
              "    <tr>\n",
              "      <th>14</th>\n",
              "      <td>15</td>\n",
              "      <td>Fast &amp; Furious Presents: Hobbs &amp; Shaw</td>\n",
              "      <td>9793794</td>\n",
              "      <td>2299665</td>\n",
              "      <td>2019</td>\n",
              "      <td>[# 14]</td>\n",
              "    </tr>\n",
              "    <tr>\n",
              "      <th>15</th>\n",
              "      <td>16</td>\n",
              "      <td>Bad Boys for Life</td>\n",
              "      <td>9381164</td>\n",
              "      <td>2168178</td>\n",
              "      <td>2020</td>\n",
              "      <td>[# 15]</td>\n",
              "    </tr>\n",
              "    <tr>\n",
              "      <th>16</th>\n",
              "      <td>17</td>\n",
              "      <td>Bohemian Rhapsody</td>\n",
              "      <td>9213080</td>\n",
              "      <td>2245666</td>\n",
              "      <td>2018</td>\n",
              "      <td>[# 16]</td>\n",
              "    </tr>\n",
              "    <tr>\n",
              "      <th>17</th>\n",
              "      <td>18</td>\n",
              "      <td>Pirates of the Caribbean: Dead Men Tell No Tales</td>\n",
              "      <td>9159517</td>\n",
              "      <td>2256356</td>\n",
              "      <td>2017</td>\n",
              "      <td>[# 17]</td>\n",
              "    </tr>\n",
              "    <tr>\n",
              "      <th>18</th>\n",
              "      <td>19</td>\n",
              "      <td>Star Wars: The Last Jedi</td>\n",
              "      <td>8664484</td>\n",
              "      <td>2223329</td>\n",
              "      <td>2017</td>\n",
              "      <td>[# 18]</td>\n",
              "    </tr>\n",
              "    <tr>\n",
              "      <th>19</th>\n",
              "      <td>20</td>\n",
              "      <td>Suicide Squad</td>\n",
              "      <td>8323197</td>\n",
              "      <td>2089607</td>\n",
              "      <td>2016</td>\n",
              "      <td>[# 19]</td>\n",
              "    </tr>\n",
              "    <tr>\n",
              "      <th>20</th>\n",
              "      <td>21</td>\n",
              "      <td>The Hobbit: An Unexpected Journey</td>\n",
              "      <td>8278047</td>\n",
              "      <td>2458647</td>\n",
              "      <td>2012</td>\n",
              "      <td>[# 20]</td>\n",
              "    </tr>\n",
              "    <tr>\n",
              "      <th>21</th>\n",
              "      <td>22</td>\n",
              "      <td>Star Wars: The Rise of Skywalker</td>\n",
              "      <td>8228799</td>\n",
              "      <td>1916191</td>\n",
              "      <td>2019</td>\n",
              "      <td>[# 14]</td>\n",
              "    </tr>\n",
              "    <tr>\n",
              "      <th>22</th>\n",
              "      <td>23</td>\n",
              "      <td>The Lion King</td>\n",
              "      <td>8199103</td>\n",
              "      <td>1931609</td>\n",
              "      <td>2019</td>\n",
              "      <td>[# 21]</td>\n",
              "    </tr>\n",
              "    <tr>\n",
              "      <th>23</th>\n",
              "      <td>24</td>\n",
              "      <td>Minions</td>\n",
              "      <td>8148891</td>\n",
              "      <td>2033405</td>\n",
              "      <td>2015</td>\n",
              "      <td>[# 22]</td>\n",
              "    </tr>\n",
              "    <tr>\n",
              "      <th>24</th>\n",
              "      <td>25</td>\n",
              "      <td>Thor: Ragnarok</td>\n",
              "      <td>8112273</td>\n",
              "      <td>2054383</td>\n",
              "      <td>2017</td>\n",
              "      <td>[# 23]</td>\n",
              "    </tr>\n",
              "    <tr>\n",
              "      <th>25</th>\n",
              "      <td>26</td>\n",
              "      <td>The Hobbit: The Desolation of Smaug</td>\n",
              "      <td>7959529</td>\n",
              "      <td>2437723</td>\n",
              "      <td>2013</td>\n",
              "      <td>[# 24]</td>\n",
              "    </tr>\n",
              "    <tr>\n",
              "      <th>26</th>\n",
              "      <td>27</td>\n",
              "      <td>Black Panther</td>\n",
              "      <td>7590824</td>\n",
              "      <td>2013517</td>\n",
              "      <td>2018</td>\n",
              "      <td>[# 25]</td>\n",
              "    </tr>\n",
              "    <tr>\n",
              "      <th>27</th>\n",
              "      <td>28</td>\n",
              "      <td>Fifty Shades Freed</td>\n",
              "      <td>7299098</td>\n",
              "      <td>1936462</td>\n",
              "      <td>2018</td>\n",
              "      <td>[# 26]</td>\n",
              "    </tr>\n",
              "    <tr>\n",
              "      <th>28</th>\n",
              "      <td>29</td>\n",
              "      <td>The Jungle Book</td>\n",
              "      <td>7187836</td>\n",
              "      <td>1812004</td>\n",
              "      <td>2016</td>\n",
              "      <td>[# 27]</td>\n",
              "    </tr>\n",
              "    <tr>\n",
              "      <th>29</th>\n",
              "      <td>30</td>\n",
              "      <td>Captain Marvel</td>\n",
              "      <td>7182977</td>\n",
              "      <td>1703140</td>\n",
              "      <td>2019</td>\n",
              "      <td>[# 28]</td>\n",
              "    </tr>\n",
              "    <tr>\n",
              "      <th>30</th>\n",
              "      <td>31</td>\n",
              "      <td>Deadpool 2</td>\n",
              "      <td>7075184</td>\n",
              "      <td>1788316</td>\n",
              "      <td>2018</td>\n",
              "      <td>[# 29]</td>\n",
              "    </tr>\n",
              "    <tr>\n",
              "      <th>31</th>\n",
              "      <td>32</td>\n",
              "      <td>Ice Age: Continental Drift</td>\n",
              "      <td>7036356</td>\n",
              "      <td>1905338</td>\n",
              "      <td>2012</td>\n",
              "      <td>[# 30]</td>\n",
              "    </tr>\n",
              "    <tr>\n",
              "      <th>32</th>\n",
              "      <td>33</td>\n",
              "      <td>Hotel Transylvania 3: Summer Vacation</td>\n",
              "      <td>7032003</td>\n",
              "      <td>1754203</td>\n",
              "      <td>2018</td>\n",
              "      <td>[# 31]</td>\n",
              "    </tr>\n",
              "    <tr>\n",
              "      <th>33</th>\n",
              "      <td>34</td>\n",
              "      <td>Fifty Shades Darker</td>\n",
              "      <td>6987350</td>\n",
              "      <td>1646591</td>\n",
              "      <td>2017</td>\n",
              "      <td>[# 32]</td>\n",
              "    </tr>\n",
              "    <tr>\n",
              "      <th>34</th>\n",
              "      <td>35</td>\n",
              "      <td>Ice Age: Dawn of the Dinosaurs</td>\n",
              "      <td>6876271</td>\n",
              "      <td>2298007</td>\n",
              "      <td>2009</td>\n",
              "      <td>[# 33]</td>\n",
              "    </tr>\n",
              "    <tr>\n",
              "      <th>35</th>\n",
              "      <td>36</td>\n",
              "      <td>Maleficent: Mistress of Evil</td>\n",
              "      <td>6775189</td>\n",
              "      <td>1580629</td>\n",
              "      <td>2019</td>\n",
              "      <td>[# 34]</td>\n",
              "    </tr>\n",
              "    <tr>\n",
              "      <th>36</th>\n",
              "      <td>37</td>\n",
              "      <td>Pirates of the Caribbean: On Stranger Tides</td>\n",
              "      <td>6725190</td>\n",
              "      <td>2320056</td>\n",
              "      <td>2011</td>\n",
              "      <td>[# 35]</td>\n",
              "    </tr>\n",
              "    <tr>\n",
              "      <th>37</th>\n",
              "      <td>38</td>\n",
              "      <td>Deadpool</td>\n",
              "      <td>6537216</td>\n",
              "      <td>1631763</td>\n",
              "      <td>2016</td>\n",
              "      <td>[# 36]</td>\n",
              "    </tr>\n",
              "    <tr>\n",
              "      <th>38</th>\n",
              "      <td>39</td>\n",
              "      <td>Doctor Strange</td>\n",
              "      <td>6497513</td>\n",
              "      <td>1562847</td>\n",
              "      <td>2016</td>\n",
              "      <td>[# 37]</td>\n",
              "    </tr>\n",
              "    <tr>\n",
              "      <th>39</th>\n",
              "      <td>40</td>\n",
              "      <td>5Gang: A Different Kind of Christmas</td>\n",
              "      <td>6488206</td>\n",
              "      <td>1510174</td>\n",
              "      <td>2019</td>\n",
              "      <td>[# 7]</td>\n",
              "    </tr>\n",
              "    <tr>\n",
              "      <th>40</th>\n",
              "      <td>41</td>\n",
              "      <td>Beauty and the Beast</td>\n",
              "      <td>6455767</td>\n",
              "      <td>1526254</td>\n",
              "      <td>2017</td>\n",
              "      <td>[# 38]</td>\n",
              "    </tr>\n",
              "    <tr>\n",
              "      <th>41</th>\n",
              "      <td>42</td>\n",
              "      <td>Batman v Superman: Dawn of Justice</td>\n",
              "      <td>6305345</td>\n",
              "      <td>1592188</td>\n",
              "      <td>2016</td>\n",
              "      <td>[# 39]</td>\n",
              "    </tr>\n",
              "    <tr>\n",
              "      <th>42</th>\n",
              "      <td>43</td>\n",
              "      <td>Spectre</td>\n",
              "      <td>6291624</td>\n",
              "      <td>1524780</td>\n",
              "      <td>2015</td>\n",
              "      <td>[# 40]</td>\n",
              "    </tr>\n",
              "    <tr>\n",
              "      <th>43</th>\n",
              "      <td>44</td>\n",
              "      <td>The Nun</td>\n",
              "      <td>6078556</td>\n",
              "      <td>1523893</td>\n",
              "      <td>2018</td>\n",
              "      <td>[# 41]</td>\n",
              "    </tr>\n",
              "    <tr>\n",
              "      <th>44</th>\n",
              "      <td>45</td>\n",
              "      <td>Interstellar</td>\n",
              "      <td>5978529</td>\n",
              "      <td>1667847</td>\n",
              "      <td>2014</td>\n",
              "      <td>[# 42]</td>\n",
              "    </tr>\n",
              "    <tr>\n",
              "      <th>45</th>\n",
              "      <td>46</td>\n",
              "      <td>Assassin's Creed</td>\n",
              "      <td>5921682</td>\n",
              "      <td>1398882</td>\n",
              "      <td>2016</td>\n",
              "      <td>[# 43]</td>\n",
              "    </tr>\n",
              "    <tr>\n",
              "      <th>46</th>\n",
              "      <td>47</td>\n",
              "      <td>Justice League</td>\n",
              "      <td>5863900</td>\n",
              "      <td>1493614</td>\n",
              "      <td>2017</td>\n",
              "      <td>[# 44]</td>\n",
              "    </tr>\n",
              "    <tr>\n",
              "      <th>47</th>\n",
              "      <td>48</td>\n",
              "      <td>Fifty Shades of Grey</td>\n",
              "      <td>5731176</td>\n",
              "      <td>1460972</td>\n",
              "      <td>2015</td>\n",
              "      <td>[# 45]</td>\n",
              "    </tr>\n",
              "    <tr>\n",
              "      <th>48</th>\n",
              "      <td>49</td>\n",
              "      <td>Dirty Grandpa</td>\n",
              "      <td>5674883</td>\n",
              "      <td>1415810</td>\n",
              "      <td>2016</td>\n",
              "      <td>[# 46]</td>\n",
              "    </tr>\n",
              "    <tr>\n",
              "      <th>49</th>\n",
              "      <td>50</td>\n",
              "      <td>Rogue One: A Star Wars Story</td>\n",
              "      <td>5665732</td>\n",
              "      <td>1316069</td>\n",
              "      <td>2016</td>\n",
              "      <td>[# 45]</td>\n",
              "    </tr>\n",
              "  </tbody>\n",
              "</table>\n",
              "</div>"
            ],
            "text/plain": [
              "    Rank                                             Title  ...  Year     Ref\n",
              "0      1                                            Avatar  ...  2009   [# 1]\n",
              "1      2                                           Aquaman  ...  2018   [# 2]\n",
              "2      3                                 Avengers: Endgame  ...  2019   [# 3]\n",
              "3      4                      Star Wars: The Force Awakens  ...  2015   [# 4]\n",
              "4      5                                         Frozen II  ...  2019   [# 5]\n",
              "5      6                           The Fate of the Furious  ...  2017   [# 6]\n",
              "6      7                                        Miami Bici  ...  2020   [# 7]\n",
              "7      8                                         Furious 7  ...  2015   [# 8]\n",
              "8      9                                             Joker  ...  2019   [# 9]\n",
              "9     10                    Jumanji: Welcome to the Jungle  ...  2017  [# 10]\n",
              "10    11         The Hobbit: The Battle of the Five Armies  ...  2014  [# 11]\n",
              "11    12                           Jumanji: The Next Level  ...  2019   [# 7]\n",
              "12    13                                             Venom  ...  2018  [# 12]\n",
              "13    14                            Avengers: Infinity War  ...  2018  [# 13]\n",
              "14    15             Fast & Furious Presents: Hobbs & Shaw  ...  2019  [# 14]\n",
              "15    16                                 Bad Boys for Life  ...  2020  [# 15]\n",
              "16    17                                 Bohemian Rhapsody  ...  2018  [# 16]\n",
              "17    18  Pirates of the Caribbean: Dead Men Tell No Tales  ...  2017  [# 17]\n",
              "18    19                          Star Wars: The Last Jedi  ...  2017  [# 18]\n",
              "19    20                                     Suicide Squad  ...  2016  [# 19]\n",
              "20    21                 The Hobbit: An Unexpected Journey  ...  2012  [# 20]\n",
              "21    22                  Star Wars: The Rise of Skywalker  ...  2019  [# 14]\n",
              "22    23                                     The Lion King  ...  2019  [# 21]\n",
              "23    24                                           Minions  ...  2015  [# 22]\n",
              "24    25                                    Thor: Ragnarok  ...  2017  [# 23]\n",
              "25    26               The Hobbit: The Desolation of Smaug  ...  2013  [# 24]\n",
              "26    27                                     Black Panther  ...  2018  [# 25]\n",
              "27    28                                Fifty Shades Freed  ...  2018  [# 26]\n",
              "28    29                                   The Jungle Book  ...  2016  [# 27]\n",
              "29    30                                    Captain Marvel  ...  2019  [# 28]\n",
              "30    31                                        Deadpool 2  ...  2018  [# 29]\n",
              "31    32                        Ice Age: Continental Drift  ...  2012  [# 30]\n",
              "32    33             Hotel Transylvania 3: Summer Vacation  ...  2018  [# 31]\n",
              "33    34                               Fifty Shades Darker  ...  2017  [# 32]\n",
              "34    35                    Ice Age: Dawn of the Dinosaurs  ...  2009  [# 33]\n",
              "35    36                      Maleficent: Mistress of Evil  ...  2019  [# 34]\n",
              "36    37       Pirates of the Caribbean: On Stranger Tides  ...  2011  [# 35]\n",
              "37    38                                          Deadpool  ...  2016  [# 36]\n",
              "38    39                                    Doctor Strange  ...  2016  [# 37]\n",
              "39    40              5Gang: A Different Kind of Christmas  ...  2019   [# 7]\n",
              "40    41                              Beauty and the Beast  ...  2017  [# 38]\n",
              "41    42                Batman v Superman: Dawn of Justice  ...  2016  [# 39]\n",
              "42    43                                           Spectre  ...  2015  [# 40]\n",
              "43    44                                           The Nun  ...  2018  [# 41]\n",
              "44    45                                      Interstellar  ...  2014  [# 42]\n",
              "45    46                                  Assassin's Creed  ...  2016  [# 43]\n",
              "46    47                                    Justice League  ...  2017  [# 44]\n",
              "47    48                              Fifty Shades of Grey  ...  2015  [# 45]\n",
              "48    49                                     Dirty Grandpa  ...  2016  [# 46]\n",
              "49    50                      Rogue One: A Star Wars Story  ...  2016  [# 45]\n",
              "\n",
              "[50 rows x 6 columns]"
            ]
          },
          "metadata": {
            "tags": []
          },
          "execution_count": 167
        }
      ]
    },
    {
      "cell_type": "code",
      "metadata": {
        "id": "U6Hfd6XoU86Z"
      },
      "source": [
        "df4['U.S. dollar'] = df4['U.S. dollar'].astype('int64')"
      ],
      "execution_count": 168,
      "outputs": []
    },
    {
      "cell_type": "code",
      "metadata": {
        "colab": {
          "base_uri": "https://localhost:8080/"
        },
        "id": "EmWC-_ZYVGP7",
        "outputId": "4502741d-c19c-43e4-9d8e-5941c402f25d"
      },
      "source": [
        "df4.info()"
      ],
      "execution_count": 169,
      "outputs": [
        {
          "output_type": "stream",
          "text": [
            "<class 'pandas.core.frame.DataFrame'>\n",
            "RangeIndex: 50 entries, 0 to 49\n",
            "Data columns (total 6 columns):\n",
            " #   Column        Non-Null Count  Dtype \n",
            "---  ------        --------------  ----- \n",
            " 0   Rank          50 non-null     int64 \n",
            " 1   Title         50 non-null     object\n",
            " 2   Romanian Leu  50 non-null     int64 \n",
            " 3   U.S. dollar   50 non-null     int64 \n",
            " 4   Year          50 non-null     int64 \n",
            " 5   Ref           50 non-null     object\n",
            "dtypes: int64(4), object(2)\n",
            "memory usage: 2.5+ KB\n"
          ],
          "name": "stdout"
        }
      ]
    },
    {
      "cell_type": "code",
      "metadata": {
        "id": "BNPOfVviVOG_"
      },
      "source": [
        "df4.drop(['Rank','Ref'], axis = 1, inplace=True)"
      ],
      "execution_count": 170,
      "outputs": []
    },
    {
      "cell_type": "code",
      "metadata": {
        "colab": {
          "base_uri": "https://localhost:8080/",
          "height": 1000
        },
        "id": "UGvDpPDiVVh4",
        "outputId": "ccd7b509-414d-4100-a0f4-92e102572d21"
      },
      "source": [
        "df4"
      ],
      "execution_count": 171,
      "outputs": [
        {
          "output_type": "execute_result",
          "data": {
            "text/html": [
              "<div>\n",
              "<style scoped>\n",
              "    .dataframe tbody tr th:only-of-type {\n",
              "        vertical-align: middle;\n",
              "    }\n",
              "\n",
              "    .dataframe tbody tr th {\n",
              "        vertical-align: top;\n",
              "    }\n",
              "\n",
              "    .dataframe thead th {\n",
              "        text-align: right;\n",
              "    }\n",
              "</style>\n",
              "<table border=\"1\" class=\"dataframe\">\n",
              "  <thead>\n",
              "    <tr style=\"text-align: right;\">\n",
              "      <th></th>\n",
              "      <th>Title</th>\n",
              "      <th>Romanian Leu</th>\n",
              "      <th>U.S. dollar</th>\n",
              "      <th>Year</th>\n",
              "    </tr>\n",
              "  </thead>\n",
              "  <tbody>\n",
              "    <tr>\n",
              "      <th>0</th>\n",
              "      <td>Avatar</td>\n",
              "      <td>18537471</td>\n",
              "      <td>6317366</td>\n",
              "      <td>2009</td>\n",
              "    </tr>\n",
              "    <tr>\n",
              "      <th>1</th>\n",
              "      <td>Aquaman</td>\n",
              "      <td>15722391</td>\n",
              "      <td>3848753</td>\n",
              "      <td>2018</td>\n",
              "    </tr>\n",
              "    <tr>\n",
              "      <th>2</th>\n",
              "      <td>Avengers: Endgame</td>\n",
              "      <td>14401724</td>\n",
              "      <td>3379432</td>\n",
              "      <td>2019</td>\n",
              "    </tr>\n",
              "    <tr>\n",
              "      <th>3</th>\n",
              "      <td>Star Wars: The Force Awakens</td>\n",
              "      <td>13515925</td>\n",
              "      <td>3256966</td>\n",
              "      <td>2015</td>\n",
              "    </tr>\n",
              "    <tr>\n",
              "      <th>4</th>\n",
              "      <td>Frozen II</td>\n",
              "      <td>13453922</td>\n",
              "      <td>3119154</td>\n",
              "      <td>2019</td>\n",
              "    </tr>\n",
              "    <tr>\n",
              "      <th>5</th>\n",
              "      <td>The Fate of the Furious</td>\n",
              "      <td>13316052</td>\n",
              "      <td>3171017</td>\n",
              "      <td>2017</td>\n",
              "    </tr>\n",
              "    <tr>\n",
              "      <th>6</th>\n",
              "      <td>Miami Bici</td>\n",
              "      <td>11603217</td>\n",
              "      <td>2666761</td>\n",
              "      <td>2020</td>\n",
              "    </tr>\n",
              "    <tr>\n",
              "      <th>7</th>\n",
              "      <td>Furious 7</td>\n",
              "      <td>11187310</td>\n",
              "      <td>2739771</td>\n",
              "      <td>2015</td>\n",
              "    </tr>\n",
              "    <tr>\n",
              "      <th>8</th>\n",
              "      <td>Joker</td>\n",
              "      <td>11126579</td>\n",
              "      <td>2586493</td>\n",
              "      <td>2019</td>\n",
              "    </tr>\n",
              "    <tr>\n",
              "      <th>9</th>\n",
              "      <td>Jumanji: Welcome to the Jungle</td>\n",
              "      <td>11093679</td>\n",
              "      <td>2895908</td>\n",
              "      <td>2017</td>\n",
              "    </tr>\n",
              "    <tr>\n",
              "      <th>10</th>\n",
              "      <td>The Hobbit: The Battle of the Five Armies</td>\n",
              "      <td>10858515</td>\n",
              "      <td>2939962</td>\n",
              "      <td>2014</td>\n",
              "    </tr>\n",
              "    <tr>\n",
              "      <th>11</th>\n",
              "      <td>Jumanji: The Next Level</td>\n",
              "      <td>10574332</td>\n",
              "      <td>2461607</td>\n",
              "      <td>2019</td>\n",
              "    </tr>\n",
              "    <tr>\n",
              "      <th>12</th>\n",
              "      <td>Venom</td>\n",
              "      <td>10029468</td>\n",
              "      <td>2467892</td>\n",
              "      <td>2018</td>\n",
              "    </tr>\n",
              "    <tr>\n",
              "      <th>13</th>\n",
              "      <td>Avengers: Infinity War</td>\n",
              "      <td>9992353</td>\n",
              "      <td>2568252</td>\n",
              "      <td>2018</td>\n",
              "    </tr>\n",
              "    <tr>\n",
              "      <th>14</th>\n",
              "      <td>Fast &amp; Furious Presents: Hobbs &amp; Shaw</td>\n",
              "      <td>9793794</td>\n",
              "      <td>2299665</td>\n",
              "      <td>2019</td>\n",
              "    </tr>\n",
              "    <tr>\n",
              "      <th>15</th>\n",
              "      <td>Bad Boys for Life</td>\n",
              "      <td>9381164</td>\n",
              "      <td>2168178</td>\n",
              "      <td>2020</td>\n",
              "    </tr>\n",
              "    <tr>\n",
              "      <th>16</th>\n",
              "      <td>Bohemian Rhapsody</td>\n",
              "      <td>9213080</td>\n",
              "      <td>2245666</td>\n",
              "      <td>2018</td>\n",
              "    </tr>\n",
              "    <tr>\n",
              "      <th>17</th>\n",
              "      <td>Pirates of the Caribbean: Dead Men Tell No Tales</td>\n",
              "      <td>9159517</td>\n",
              "      <td>2256356</td>\n",
              "      <td>2017</td>\n",
              "    </tr>\n",
              "    <tr>\n",
              "      <th>18</th>\n",
              "      <td>Star Wars: The Last Jedi</td>\n",
              "      <td>8664484</td>\n",
              "      <td>2223329</td>\n",
              "      <td>2017</td>\n",
              "    </tr>\n",
              "    <tr>\n",
              "      <th>19</th>\n",
              "      <td>Suicide Squad</td>\n",
              "      <td>8323197</td>\n",
              "      <td>2089607</td>\n",
              "      <td>2016</td>\n",
              "    </tr>\n",
              "    <tr>\n",
              "      <th>20</th>\n",
              "      <td>The Hobbit: An Unexpected Journey</td>\n",
              "      <td>8278047</td>\n",
              "      <td>2458647</td>\n",
              "      <td>2012</td>\n",
              "    </tr>\n",
              "    <tr>\n",
              "      <th>21</th>\n",
              "      <td>Star Wars: The Rise of Skywalker</td>\n",
              "      <td>8228799</td>\n",
              "      <td>1916191</td>\n",
              "      <td>2019</td>\n",
              "    </tr>\n",
              "    <tr>\n",
              "      <th>22</th>\n",
              "      <td>The Lion King</td>\n",
              "      <td>8199103</td>\n",
              "      <td>1931609</td>\n",
              "      <td>2019</td>\n",
              "    </tr>\n",
              "    <tr>\n",
              "      <th>23</th>\n",
              "      <td>Minions</td>\n",
              "      <td>8148891</td>\n",
              "      <td>2033405</td>\n",
              "      <td>2015</td>\n",
              "    </tr>\n",
              "    <tr>\n",
              "      <th>24</th>\n",
              "      <td>Thor: Ragnarok</td>\n",
              "      <td>8112273</td>\n",
              "      <td>2054383</td>\n",
              "      <td>2017</td>\n",
              "    </tr>\n",
              "    <tr>\n",
              "      <th>25</th>\n",
              "      <td>The Hobbit: The Desolation of Smaug</td>\n",
              "      <td>7959529</td>\n",
              "      <td>2437723</td>\n",
              "      <td>2013</td>\n",
              "    </tr>\n",
              "    <tr>\n",
              "      <th>26</th>\n",
              "      <td>Black Panther</td>\n",
              "      <td>7590824</td>\n",
              "      <td>2013517</td>\n",
              "      <td>2018</td>\n",
              "    </tr>\n",
              "    <tr>\n",
              "      <th>27</th>\n",
              "      <td>Fifty Shades Freed</td>\n",
              "      <td>7299098</td>\n",
              "      <td>1936462</td>\n",
              "      <td>2018</td>\n",
              "    </tr>\n",
              "    <tr>\n",
              "      <th>28</th>\n",
              "      <td>The Jungle Book</td>\n",
              "      <td>7187836</td>\n",
              "      <td>1812004</td>\n",
              "      <td>2016</td>\n",
              "    </tr>\n",
              "    <tr>\n",
              "      <th>29</th>\n",
              "      <td>Captain Marvel</td>\n",
              "      <td>7182977</td>\n",
              "      <td>1703140</td>\n",
              "      <td>2019</td>\n",
              "    </tr>\n",
              "    <tr>\n",
              "      <th>30</th>\n",
              "      <td>Deadpool 2</td>\n",
              "      <td>7075184</td>\n",
              "      <td>1788316</td>\n",
              "      <td>2018</td>\n",
              "    </tr>\n",
              "    <tr>\n",
              "      <th>31</th>\n",
              "      <td>Ice Age: Continental Drift</td>\n",
              "      <td>7036356</td>\n",
              "      <td>1905338</td>\n",
              "      <td>2012</td>\n",
              "    </tr>\n",
              "    <tr>\n",
              "      <th>32</th>\n",
              "      <td>Hotel Transylvania 3: Summer Vacation</td>\n",
              "      <td>7032003</td>\n",
              "      <td>1754203</td>\n",
              "      <td>2018</td>\n",
              "    </tr>\n",
              "    <tr>\n",
              "      <th>33</th>\n",
              "      <td>Fifty Shades Darker</td>\n",
              "      <td>6987350</td>\n",
              "      <td>1646591</td>\n",
              "      <td>2017</td>\n",
              "    </tr>\n",
              "    <tr>\n",
              "      <th>34</th>\n",
              "      <td>Ice Age: Dawn of the Dinosaurs</td>\n",
              "      <td>6876271</td>\n",
              "      <td>2298007</td>\n",
              "      <td>2009</td>\n",
              "    </tr>\n",
              "    <tr>\n",
              "      <th>35</th>\n",
              "      <td>Maleficent: Mistress of Evil</td>\n",
              "      <td>6775189</td>\n",
              "      <td>1580629</td>\n",
              "      <td>2019</td>\n",
              "    </tr>\n",
              "    <tr>\n",
              "      <th>36</th>\n",
              "      <td>Pirates of the Caribbean: On Stranger Tides</td>\n",
              "      <td>6725190</td>\n",
              "      <td>2320056</td>\n",
              "      <td>2011</td>\n",
              "    </tr>\n",
              "    <tr>\n",
              "      <th>37</th>\n",
              "      <td>Deadpool</td>\n",
              "      <td>6537216</td>\n",
              "      <td>1631763</td>\n",
              "      <td>2016</td>\n",
              "    </tr>\n",
              "    <tr>\n",
              "      <th>38</th>\n",
              "      <td>Doctor Strange</td>\n",
              "      <td>6497513</td>\n",
              "      <td>1562847</td>\n",
              "      <td>2016</td>\n",
              "    </tr>\n",
              "    <tr>\n",
              "      <th>39</th>\n",
              "      <td>5Gang: A Different Kind of Christmas</td>\n",
              "      <td>6488206</td>\n",
              "      <td>1510174</td>\n",
              "      <td>2019</td>\n",
              "    </tr>\n",
              "    <tr>\n",
              "      <th>40</th>\n",
              "      <td>Beauty and the Beast</td>\n",
              "      <td>6455767</td>\n",
              "      <td>1526254</td>\n",
              "      <td>2017</td>\n",
              "    </tr>\n",
              "    <tr>\n",
              "      <th>41</th>\n",
              "      <td>Batman v Superman: Dawn of Justice</td>\n",
              "      <td>6305345</td>\n",
              "      <td>1592188</td>\n",
              "      <td>2016</td>\n",
              "    </tr>\n",
              "    <tr>\n",
              "      <th>42</th>\n",
              "      <td>Spectre</td>\n",
              "      <td>6291624</td>\n",
              "      <td>1524780</td>\n",
              "      <td>2015</td>\n",
              "    </tr>\n",
              "    <tr>\n",
              "      <th>43</th>\n",
              "      <td>The Nun</td>\n",
              "      <td>6078556</td>\n",
              "      <td>1523893</td>\n",
              "      <td>2018</td>\n",
              "    </tr>\n",
              "    <tr>\n",
              "      <th>44</th>\n",
              "      <td>Interstellar</td>\n",
              "      <td>5978529</td>\n",
              "      <td>1667847</td>\n",
              "      <td>2014</td>\n",
              "    </tr>\n",
              "    <tr>\n",
              "      <th>45</th>\n",
              "      <td>Assassin's Creed</td>\n",
              "      <td>5921682</td>\n",
              "      <td>1398882</td>\n",
              "      <td>2016</td>\n",
              "    </tr>\n",
              "    <tr>\n",
              "      <th>46</th>\n",
              "      <td>Justice League</td>\n",
              "      <td>5863900</td>\n",
              "      <td>1493614</td>\n",
              "      <td>2017</td>\n",
              "    </tr>\n",
              "    <tr>\n",
              "      <th>47</th>\n",
              "      <td>Fifty Shades of Grey</td>\n",
              "      <td>5731176</td>\n",
              "      <td>1460972</td>\n",
              "      <td>2015</td>\n",
              "    </tr>\n",
              "    <tr>\n",
              "      <th>48</th>\n",
              "      <td>Dirty Grandpa</td>\n",
              "      <td>5674883</td>\n",
              "      <td>1415810</td>\n",
              "      <td>2016</td>\n",
              "    </tr>\n",
              "    <tr>\n",
              "      <th>49</th>\n",
              "      <td>Rogue One: A Star Wars Story</td>\n",
              "      <td>5665732</td>\n",
              "      <td>1316069</td>\n",
              "      <td>2016</td>\n",
              "    </tr>\n",
              "  </tbody>\n",
              "</table>\n",
              "</div>"
            ],
            "text/plain": [
              "                                               Title  ...  Year\n",
              "0                                             Avatar  ...  2009\n",
              "1                                            Aquaman  ...  2018\n",
              "2                                  Avengers: Endgame  ...  2019\n",
              "3                       Star Wars: The Force Awakens  ...  2015\n",
              "4                                          Frozen II  ...  2019\n",
              "5                            The Fate of the Furious  ...  2017\n",
              "6                                         Miami Bici  ...  2020\n",
              "7                                          Furious 7  ...  2015\n",
              "8                                              Joker  ...  2019\n",
              "9                     Jumanji: Welcome to the Jungle  ...  2017\n",
              "10         The Hobbit: The Battle of the Five Armies  ...  2014\n",
              "11                           Jumanji: The Next Level  ...  2019\n",
              "12                                             Venom  ...  2018\n",
              "13                            Avengers: Infinity War  ...  2018\n",
              "14             Fast & Furious Presents: Hobbs & Shaw  ...  2019\n",
              "15                                 Bad Boys for Life  ...  2020\n",
              "16                                 Bohemian Rhapsody  ...  2018\n",
              "17  Pirates of the Caribbean: Dead Men Tell No Tales  ...  2017\n",
              "18                          Star Wars: The Last Jedi  ...  2017\n",
              "19                                     Suicide Squad  ...  2016\n",
              "20                 The Hobbit: An Unexpected Journey  ...  2012\n",
              "21                  Star Wars: The Rise of Skywalker  ...  2019\n",
              "22                                     The Lion King  ...  2019\n",
              "23                                           Minions  ...  2015\n",
              "24                                    Thor: Ragnarok  ...  2017\n",
              "25               The Hobbit: The Desolation of Smaug  ...  2013\n",
              "26                                     Black Panther  ...  2018\n",
              "27                                Fifty Shades Freed  ...  2018\n",
              "28                                   The Jungle Book  ...  2016\n",
              "29                                    Captain Marvel  ...  2019\n",
              "30                                        Deadpool 2  ...  2018\n",
              "31                        Ice Age: Continental Drift  ...  2012\n",
              "32             Hotel Transylvania 3: Summer Vacation  ...  2018\n",
              "33                               Fifty Shades Darker  ...  2017\n",
              "34                    Ice Age: Dawn of the Dinosaurs  ...  2009\n",
              "35                      Maleficent: Mistress of Evil  ...  2019\n",
              "36       Pirates of the Caribbean: On Stranger Tides  ...  2011\n",
              "37                                          Deadpool  ...  2016\n",
              "38                                    Doctor Strange  ...  2016\n",
              "39              5Gang: A Different Kind of Christmas  ...  2019\n",
              "40                              Beauty and the Beast  ...  2017\n",
              "41                Batman v Superman: Dawn of Justice  ...  2016\n",
              "42                                           Spectre  ...  2015\n",
              "43                                           The Nun  ...  2018\n",
              "44                                      Interstellar  ...  2014\n",
              "45                                  Assassin's Creed  ...  2016\n",
              "46                                    Justice League  ...  2017\n",
              "47                              Fifty Shades of Grey  ...  2015\n",
              "48                                     Dirty Grandpa  ...  2016\n",
              "49                      Rogue One: A Star Wars Story  ...  2016\n",
              "\n",
              "[50 rows x 4 columns]"
            ]
          },
          "metadata": {
            "tags": []
          },
          "execution_count": 171
        }
      ]
    },
    {
      "cell_type": "code",
      "metadata": {
        "id": "Yk6s0ZgvVl76"
      },
      "source": [
        "df5 = df4[['Title','U.S. dollar']].sort_values(ascending=False, by = 'U.S. dollar')"
      ],
      "execution_count": 172,
      "outputs": []
    },
    {
      "cell_type": "code",
      "metadata": {
        "colab": {
          "base_uri": "https://localhost:8080/",
          "height": 1000
        },
        "id": "m2dlrgY5Vu2d",
        "outputId": "6da5c43a-40ce-48dd-9951-492e4e2f4059"
      },
      "source": [
        "df5"
      ],
      "execution_count": 173,
      "outputs": [
        {
          "output_type": "execute_result",
          "data": {
            "text/html": [
              "<div>\n",
              "<style scoped>\n",
              "    .dataframe tbody tr th:only-of-type {\n",
              "        vertical-align: middle;\n",
              "    }\n",
              "\n",
              "    .dataframe tbody tr th {\n",
              "        vertical-align: top;\n",
              "    }\n",
              "\n",
              "    .dataframe thead th {\n",
              "        text-align: right;\n",
              "    }\n",
              "</style>\n",
              "<table border=\"1\" class=\"dataframe\">\n",
              "  <thead>\n",
              "    <tr style=\"text-align: right;\">\n",
              "      <th></th>\n",
              "      <th>Title</th>\n",
              "      <th>U.S. dollar</th>\n",
              "    </tr>\n",
              "  </thead>\n",
              "  <tbody>\n",
              "    <tr>\n",
              "      <th>0</th>\n",
              "      <td>Avatar</td>\n",
              "      <td>6317366</td>\n",
              "    </tr>\n",
              "    <tr>\n",
              "      <th>1</th>\n",
              "      <td>Aquaman</td>\n",
              "      <td>3848753</td>\n",
              "    </tr>\n",
              "    <tr>\n",
              "      <th>2</th>\n",
              "      <td>Avengers: Endgame</td>\n",
              "      <td>3379432</td>\n",
              "    </tr>\n",
              "    <tr>\n",
              "      <th>3</th>\n",
              "      <td>Star Wars: The Force Awakens</td>\n",
              "      <td>3256966</td>\n",
              "    </tr>\n",
              "    <tr>\n",
              "      <th>5</th>\n",
              "      <td>The Fate of the Furious</td>\n",
              "      <td>3171017</td>\n",
              "    </tr>\n",
              "    <tr>\n",
              "      <th>4</th>\n",
              "      <td>Frozen II</td>\n",
              "      <td>3119154</td>\n",
              "    </tr>\n",
              "    <tr>\n",
              "      <th>10</th>\n",
              "      <td>The Hobbit: The Battle of the Five Armies</td>\n",
              "      <td>2939962</td>\n",
              "    </tr>\n",
              "    <tr>\n",
              "      <th>9</th>\n",
              "      <td>Jumanji: Welcome to the Jungle</td>\n",
              "      <td>2895908</td>\n",
              "    </tr>\n",
              "    <tr>\n",
              "      <th>7</th>\n",
              "      <td>Furious 7</td>\n",
              "      <td>2739771</td>\n",
              "    </tr>\n",
              "    <tr>\n",
              "      <th>6</th>\n",
              "      <td>Miami Bici</td>\n",
              "      <td>2666761</td>\n",
              "    </tr>\n",
              "    <tr>\n",
              "      <th>8</th>\n",
              "      <td>Joker</td>\n",
              "      <td>2586493</td>\n",
              "    </tr>\n",
              "    <tr>\n",
              "      <th>13</th>\n",
              "      <td>Avengers: Infinity War</td>\n",
              "      <td>2568252</td>\n",
              "    </tr>\n",
              "    <tr>\n",
              "      <th>12</th>\n",
              "      <td>Venom</td>\n",
              "      <td>2467892</td>\n",
              "    </tr>\n",
              "    <tr>\n",
              "      <th>11</th>\n",
              "      <td>Jumanji: The Next Level</td>\n",
              "      <td>2461607</td>\n",
              "    </tr>\n",
              "    <tr>\n",
              "      <th>20</th>\n",
              "      <td>The Hobbit: An Unexpected Journey</td>\n",
              "      <td>2458647</td>\n",
              "    </tr>\n",
              "    <tr>\n",
              "      <th>25</th>\n",
              "      <td>The Hobbit: The Desolation of Smaug</td>\n",
              "      <td>2437723</td>\n",
              "    </tr>\n",
              "    <tr>\n",
              "      <th>36</th>\n",
              "      <td>Pirates of the Caribbean: On Stranger Tides</td>\n",
              "      <td>2320056</td>\n",
              "    </tr>\n",
              "    <tr>\n",
              "      <th>14</th>\n",
              "      <td>Fast &amp; Furious Presents: Hobbs &amp; Shaw</td>\n",
              "      <td>2299665</td>\n",
              "    </tr>\n",
              "    <tr>\n",
              "      <th>34</th>\n",
              "      <td>Ice Age: Dawn of the Dinosaurs</td>\n",
              "      <td>2298007</td>\n",
              "    </tr>\n",
              "    <tr>\n",
              "      <th>17</th>\n",
              "      <td>Pirates of the Caribbean: Dead Men Tell No Tales</td>\n",
              "      <td>2256356</td>\n",
              "    </tr>\n",
              "    <tr>\n",
              "      <th>16</th>\n",
              "      <td>Bohemian Rhapsody</td>\n",
              "      <td>2245666</td>\n",
              "    </tr>\n",
              "    <tr>\n",
              "      <th>18</th>\n",
              "      <td>Star Wars: The Last Jedi</td>\n",
              "      <td>2223329</td>\n",
              "    </tr>\n",
              "    <tr>\n",
              "      <th>15</th>\n",
              "      <td>Bad Boys for Life</td>\n",
              "      <td>2168178</td>\n",
              "    </tr>\n",
              "    <tr>\n",
              "      <th>19</th>\n",
              "      <td>Suicide Squad</td>\n",
              "      <td>2089607</td>\n",
              "    </tr>\n",
              "    <tr>\n",
              "      <th>24</th>\n",
              "      <td>Thor: Ragnarok</td>\n",
              "      <td>2054383</td>\n",
              "    </tr>\n",
              "    <tr>\n",
              "      <th>23</th>\n",
              "      <td>Minions</td>\n",
              "      <td>2033405</td>\n",
              "    </tr>\n",
              "    <tr>\n",
              "      <th>26</th>\n",
              "      <td>Black Panther</td>\n",
              "      <td>2013517</td>\n",
              "    </tr>\n",
              "    <tr>\n",
              "      <th>27</th>\n",
              "      <td>Fifty Shades Freed</td>\n",
              "      <td>1936462</td>\n",
              "    </tr>\n",
              "    <tr>\n",
              "      <th>22</th>\n",
              "      <td>The Lion King</td>\n",
              "      <td>1931609</td>\n",
              "    </tr>\n",
              "    <tr>\n",
              "      <th>21</th>\n",
              "      <td>Star Wars: The Rise of Skywalker</td>\n",
              "      <td>1916191</td>\n",
              "    </tr>\n",
              "    <tr>\n",
              "      <th>31</th>\n",
              "      <td>Ice Age: Continental Drift</td>\n",
              "      <td>1905338</td>\n",
              "    </tr>\n",
              "    <tr>\n",
              "      <th>28</th>\n",
              "      <td>The Jungle Book</td>\n",
              "      <td>1812004</td>\n",
              "    </tr>\n",
              "    <tr>\n",
              "      <th>30</th>\n",
              "      <td>Deadpool 2</td>\n",
              "      <td>1788316</td>\n",
              "    </tr>\n",
              "    <tr>\n",
              "      <th>32</th>\n",
              "      <td>Hotel Transylvania 3: Summer Vacation</td>\n",
              "      <td>1754203</td>\n",
              "    </tr>\n",
              "    <tr>\n",
              "      <th>29</th>\n",
              "      <td>Captain Marvel</td>\n",
              "      <td>1703140</td>\n",
              "    </tr>\n",
              "    <tr>\n",
              "      <th>44</th>\n",
              "      <td>Interstellar</td>\n",
              "      <td>1667847</td>\n",
              "    </tr>\n",
              "    <tr>\n",
              "      <th>33</th>\n",
              "      <td>Fifty Shades Darker</td>\n",
              "      <td>1646591</td>\n",
              "    </tr>\n",
              "    <tr>\n",
              "      <th>37</th>\n",
              "      <td>Deadpool</td>\n",
              "      <td>1631763</td>\n",
              "    </tr>\n",
              "    <tr>\n",
              "      <th>41</th>\n",
              "      <td>Batman v Superman: Dawn of Justice</td>\n",
              "      <td>1592188</td>\n",
              "    </tr>\n",
              "    <tr>\n",
              "      <th>35</th>\n",
              "      <td>Maleficent: Mistress of Evil</td>\n",
              "      <td>1580629</td>\n",
              "    </tr>\n",
              "    <tr>\n",
              "      <th>38</th>\n",
              "      <td>Doctor Strange</td>\n",
              "      <td>1562847</td>\n",
              "    </tr>\n",
              "    <tr>\n",
              "      <th>40</th>\n",
              "      <td>Beauty and the Beast</td>\n",
              "      <td>1526254</td>\n",
              "    </tr>\n",
              "    <tr>\n",
              "      <th>42</th>\n",
              "      <td>Spectre</td>\n",
              "      <td>1524780</td>\n",
              "    </tr>\n",
              "    <tr>\n",
              "      <th>43</th>\n",
              "      <td>The Nun</td>\n",
              "      <td>1523893</td>\n",
              "    </tr>\n",
              "    <tr>\n",
              "      <th>39</th>\n",
              "      <td>5Gang: A Different Kind of Christmas</td>\n",
              "      <td>1510174</td>\n",
              "    </tr>\n",
              "    <tr>\n",
              "      <th>46</th>\n",
              "      <td>Justice League</td>\n",
              "      <td>1493614</td>\n",
              "    </tr>\n",
              "    <tr>\n",
              "      <th>47</th>\n",
              "      <td>Fifty Shades of Grey</td>\n",
              "      <td>1460972</td>\n",
              "    </tr>\n",
              "    <tr>\n",
              "      <th>48</th>\n",
              "      <td>Dirty Grandpa</td>\n",
              "      <td>1415810</td>\n",
              "    </tr>\n",
              "    <tr>\n",
              "      <th>45</th>\n",
              "      <td>Assassin's Creed</td>\n",
              "      <td>1398882</td>\n",
              "    </tr>\n",
              "    <tr>\n",
              "      <th>49</th>\n",
              "      <td>Rogue One: A Star Wars Story</td>\n",
              "      <td>1316069</td>\n",
              "    </tr>\n",
              "  </tbody>\n",
              "</table>\n",
              "</div>"
            ],
            "text/plain": [
              "                                               Title  U.S. dollar\n",
              "0                                             Avatar      6317366\n",
              "1                                            Aquaman      3848753\n",
              "2                                  Avengers: Endgame      3379432\n",
              "3                       Star Wars: The Force Awakens      3256966\n",
              "5                            The Fate of the Furious      3171017\n",
              "4                                          Frozen II      3119154\n",
              "10         The Hobbit: The Battle of the Five Armies      2939962\n",
              "9                     Jumanji: Welcome to the Jungle      2895908\n",
              "7                                          Furious 7      2739771\n",
              "6                                         Miami Bici      2666761\n",
              "8                                              Joker      2586493\n",
              "13                            Avengers: Infinity War      2568252\n",
              "12                                             Venom      2467892\n",
              "11                           Jumanji: The Next Level      2461607\n",
              "20                 The Hobbit: An Unexpected Journey      2458647\n",
              "25               The Hobbit: The Desolation of Smaug      2437723\n",
              "36       Pirates of the Caribbean: On Stranger Tides      2320056\n",
              "14             Fast & Furious Presents: Hobbs & Shaw      2299665\n",
              "34                    Ice Age: Dawn of the Dinosaurs      2298007\n",
              "17  Pirates of the Caribbean: Dead Men Tell No Tales      2256356\n",
              "16                                 Bohemian Rhapsody      2245666\n",
              "18                          Star Wars: The Last Jedi      2223329\n",
              "15                                 Bad Boys for Life      2168178\n",
              "19                                     Suicide Squad      2089607\n",
              "24                                    Thor: Ragnarok      2054383\n",
              "23                                           Minions      2033405\n",
              "26                                     Black Panther      2013517\n",
              "27                                Fifty Shades Freed      1936462\n",
              "22                                     The Lion King      1931609\n",
              "21                  Star Wars: The Rise of Skywalker      1916191\n",
              "31                        Ice Age: Continental Drift      1905338\n",
              "28                                   The Jungle Book      1812004\n",
              "30                                        Deadpool 2      1788316\n",
              "32             Hotel Transylvania 3: Summer Vacation      1754203\n",
              "29                                    Captain Marvel      1703140\n",
              "44                                      Interstellar      1667847\n",
              "33                               Fifty Shades Darker      1646591\n",
              "37                                          Deadpool      1631763\n",
              "41                Batman v Superman: Dawn of Justice      1592188\n",
              "35                      Maleficent: Mistress of Evil      1580629\n",
              "38                                    Doctor Strange      1562847\n",
              "40                              Beauty and the Beast      1526254\n",
              "42                                           Spectre      1524780\n",
              "43                                           The Nun      1523893\n",
              "39              5Gang: A Different Kind of Christmas      1510174\n",
              "46                                    Justice League      1493614\n",
              "47                              Fifty Shades of Grey      1460972\n",
              "48                                     Dirty Grandpa      1415810\n",
              "45                                  Assassin's Creed      1398882\n",
              "49                      Rogue One: A Star Wars Story      1316069"
            ]
          },
          "metadata": {
            "tags": []
          },
          "execution_count": 173
        }
      ]
    },
    {
      "cell_type": "code",
      "metadata": {
        "colab": {
          "base_uri": "https://localhost:8080/",
          "height": 487
        },
        "id": "a4IA9pzvYuKC",
        "outputId": "62113cf2-6639-4b95-c175-6afad2448c53"
      },
      "source": [
        "plt.figure(figsize=(10,5))\n",
        "ax=sns.barplot(x='Title',y='U.S. dollar',data=df5.head(5))\n",
        "ax.set_xticklabels(labels=df5.head()['Title'],rotation=75)\n",
        "ax.set_title(\"Top 5 Films per revenue\")\n",
        "ax.set_ylabel(\"Gross revenue\")\n",
        "for p in ax.patches:\n",
        "  ax.annotate(p.get_height(),(p.get_x()+p.get_width()/2,p.get_height()),ha='center',va='bottom')"
      ],
      "execution_count": 174,
      "outputs": [
        {
          "output_type": "display_data",
          "data": {
            "image/png": "[encoded data removed]",
            "text/plain": [
              "<Figure size 720x360 with 1 Axes>"
            ]
          },
          "metadata": {
            "tags": [],
            "needs_background": "light"
          }
        }
      ]
    },
    {
      "cell_type": "code",
      "metadata": {
        "colab": {
          "base_uri": "https://localhost:8080/",
          "height": 303
        },
        "id": "SHrkWmJGZInL",
        "outputId": "f8a62ccc-6142-4d8d-ce3d-fe0fdf951db6"
      },
      "source": [
        "df5['U.S. dollar'].head(10).plot(kind='pie',autopct='%.2f%%',labels=df5['Title'],figsize=(10,5));"
      ],
      "execution_count": 175,
      "outputs": [
        {
          "output_type": "display_data",
          "data": {
            "image/png": "[encoded data removed]",
            "text/plain": [
              "<Figure size 720x360 with 1 Axes>"
            ]
          },
          "metadata": {
            "tags": []
          }
        }
      ]
    },
    {
      "cell_type": "code",
      "metadata": {
        "colab": {
          "base_uri": "https://localhost:8080/",
          "height": 616
        },
        "id": "QUMElCzbjbcp",
        "outputId": "30a82044-f446-4512-ab2f-20deb5d3284a"
      },
      "source": [
        "df6=df4.groupby('Year')['U.S. dollar'].mean()\n",
        "df6.plot(kind='line',figsize=(10,10));"
      ],
      "execution_count": 181,
      "outputs": [
        {
          "output_type": "display_data",
          "data": {
            "image/png": "[encoded data removed]",
            "text/plain": [
              "<Figure size 720x720 with 1 Axes>"
            ]
          },
          "metadata": {
            "tags": [],
            "needs_background": "light"
          }
        }
      ]
    },
    {
      "cell_type": "markdown",
      "metadata": {
        "id": "tx5OtQophKGy"
      },
      "source": [
        "**Вывод:** Три самых прибыльных фильма в Румынии: \"Aquaman\", \"Avatar\",\t\"Avengers: Endgame\"\n",
        "Наибольший доход принес фильм \"Avatar\"\n",
        "Самым прибыльным оказался 2010 год"
      ]
    },
    {
      "cell_type": "markdown",
      "metadata": {
        "id": "w-W57tINVC2z"
      },
      "source": [
        "# **Case study 2: Use of data analysis for air quality management**"
      ]
    },
    {
      "cell_type": "markdown",
      "metadata": {
        "id": "jZMWTcwLVqPV"
      },
      "source": [
        "Для мониторинга состояния качества атмосферного воздуха Центральный совет по контролю за загрязнением (ЦCКЗ) Индии управляет обширной сетью станций мониторинга, разбросанных по всей стране. Регулярно контролируемые параметры включают диоксид серы (SO2), оксиды азота в виде диоксида азота (NO2), озон и мелкие твердые частицы (PM2,5). Основываясь на тенденциях на протяжении многих лет, качество воздуха в столице страны Дели стало предметом озабоченности общественности.\n",
        "Далее следует пошаговый анализ ежедневных данных о качестве воздуха, чтобы продемонстрировать, как анализ данных может помочь в планировании мероприятий в рамках управления качеством воздуха.\n",
        "**Примечание.** Набор данных, использованный для этого тематического исследования, называется **«NSIT Dwarka.csv»**. Пожалуйста, обратитесь к разделу технического описания для получения подробной информации о том, как импортировать этот набор данных."
      ]
    },
    {
      "cell_type": "markdown",
      "metadata": {
        "id": "NalhUbxlWAz-"
      },
      "source": [
        "Вопросы, на которые мы хотим ответить с помощью нашего анализа:\n",
        " 1. Среднегодовые значения: из четырех загрязнителей - SO2, NO2, озона и PM2,5 - среднегодовые уровни которых регулярно превышают установленные годовые нормы?\n",
        " 2. Суточные нормы. В отношении загрязнителей, какое количество дней в году дневные нормы превышаются?\n",
        " 3. Временные колебания. В какие месяцы уровни загрязнения превышают критические уровни в большинстве дней?"
      ]
    },
    {
      "cell_type": "markdown",
      "metadata": {
        "id": "EWA-jjbPWqSP"
      },
      "source": [
        "# **Шаг 1. Импорт данных и изучение характеристик наборов данных.**"
      ]
    },
    {
      "cell_type": "code",
      "metadata": {
        "colab": {
          "resources": {
            "http://localhost:8080/nbextensions/google.colab/files.js": {
              "data": "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",
              "ok": true,
              "headers": [
                [
                  "content-type",
                  "application/javascript"
                ]
              ],
              "status": 200,
              "status_text": ""
            }
          },
          "base_uri": "https://localhost:8080/"
        },
        "id": "XQUZCPArWWd0",
        "outputId": "de3f5726-d040-4dd7-bc28-1c26c3cd1590"
      },
      "source": [
        "from google.colab import files\n",
        "uploaded = files.upload()"
      ],
      "execution_count": null,
      "outputs": [
        {
          "output_type": "display_data",
          "data": {
            "text/html": [
              "\n",
              "     <input type=\"file\" id=\"files-70743b52-2fbb-4170-823e-d51cba4266b1\" name=\"files[]\" multiple disabled\n",
              "        style=\"border:none\" />\n",
              "     <output id=\"result-70743b52-2fbb-4170-823e-d51cba4266b1\">\n",
              "      Upload widget is only available when the cell has been executed in the\n",
              "      current browser session. Please rerun this cell to enable.\n",
              "      </output>\n",
              "      <script src=\"/nbextensions/google.colab/files.js\"></script> "
            ],
            "text/plain": [
              "<IPython.core.display.HTML object>"
            ]
          },
          "metadata": {
            "tags": []
          }
        },
        {
          "output_type": "stream",
          "text": [
            "Saving NSIT Dwarka.csv to NSIT Dwarka.csv\n"
          ],
          "name": "stdout"
        }
      ]
    },
    {
      "cell_type": "code",
      "metadata": {
        "id": "2kaPjgYnWUcl"
      },
      "source": [
        "import pandas as pd\n",
        "import numpy as np\n",
        "import seaborn as sns\n",
        "import matplotlib.pyplot as plt\n",
        "#aqdata is the name of the DataFrame, short for Air Quality Data.\n",
        "aqdata=pd.read_csv('NSIT Dwarka.csv')\n",
        "aqdata.head()"
      ],
      "execution_count": null,
      "outputs": []
    },
    {
      "cell_type": "markdown",
      "metadata": {
        "id": "VsVqw4McWxkS"
      },
      "source": [
        "Проверка типов данных столбцов:"
      ]
    },
    {
      "cell_type": "code",
      "metadata": {
        "colab": {
          "base_uri": "https://localhost:8080/"
        },
        "id": "I7Y9XJ19Wy09",
        "outputId": "d1c4b216-c8ad-47e4-c313-d619741eed74"
      },
      "source": [
        "aqdata.info()"
      ],
      "execution_count": null,
      "outputs": [
        {
          "output_type": "stream",
          "text": [
            "<class 'pandas.core.frame.DataFrame'>\n",
            "RangeIndex: 2192 entries, 0 to 2191\n",
            "Data columns (total 6 columns):\n",
            " #   Column     Non-Null Count  Dtype \n",
            "---  ------     --------------  ----- \n",
            " 0   From Date  2191 non-null   object\n",
            " 1   To Date    2191 non-null   object\n",
            " 2   PM2.5      2191 non-null   object\n",
            " 3   SO2        2187 non-null   object\n",
            " 4   Ozone      2187 non-null   object\n",
            " 5   NO2        2190 non-null   object\n",
            "dtypes: object(6)\n",
            "memory usage: 102.9+ KB\n"
          ],
          "name": "stdout"
        }
      ]
    },
    {
      "cell_type": "markdown",
      "metadata": {
        "id": "QWw6uXu-W90m"
      },
      "source": [
        "Наблюдение: хотя значения SO2, NO2, озона и PM2,5 являются числовыми, Pandasсчитывает тип данных этих столбцов как «объект». Для работы с этими столбцами (т. Е. Построить график графики, наблюдать за тенденциями, рассчитывать агрегированные значения), нам нужно изменить типы данных\n",
        "эти столбцы. Кроме того, похоже, есть некоторые недостающие записи."
      ]
    },
    {
      "cell_type": "markdown",
      "metadata": {
        "id": "et3y9bLWXDrs"
      },
      "source": [
        "# **Шаг 2. Обработка данных**"
      ]
    },
    {
      "cell_type": "markdown",
      "metadata": {
        "id": "NXW65ABuXNfM"
      },
      "source": [
        "Основываясь на наблюдениях на предыдущем шаге, на этом шаге мы будем\n",
        "  1. Работать с пропущенными значениями. У нас есть возможность отказаться от нулевые значения или замена нулевых значений.\n",
        "  2. Изменение типа данных для столбцов.\n",
        "\n",
        "Проверим наличие отсутствующих значений в наборе данных:"
      ]
    },
    {
      "cell_type": "code",
      "metadata": {
        "id": "bk8v7E8oXa0B"
      },
      "source": [
        "#Ваш код"
      ],
      "execution_count": null,
      "outputs": []
    },
    {
      "cell_type": "markdown",
      "metadata": {
        "id": "u3F4-JZYXmht"
      },
      "source": [
        "Кажется, что пропущенных значений не так много, но в этом и заключается загвоздка. Когда мы проверив первые несколько строк с помощью оператора head, мы увидели, что некоторые пропущенные значения представлены как **None **в исходном наборе данных. Однако они не признаются как нулевые значения от Pandas. Заменим значение **None** значением **np.nan**, чтобы **Pandas** признает эти значения как нулевые значения:"
      ]
    },
    {
      "cell_type": "code",
      "metadata": {
        "id": "T9wl_fLeXt4K"
      },
      "source": [
        "#Ваш код"
      ],
      "execution_count": null,
      "outputs": []
    },
    {
      "cell_type": "code",
      "metadata": {
        "id": "28y1N5ZjXyP0"
      },
      "source": [
        "#Ваш код"
      ],
      "execution_count": null,
      "outputs": []
    },
    {
      "cell_type": "code",
      "metadata": {
        "id": "tAsHnBHEX6ZU"
      },
      "source": [
        "#Ваш код"
      ],
      "execution_count": null,
      "outputs": []
    },
    {
      "cell_type": "markdown",
      "metadata": {
        "id": "irDUSsmdYE2S"
      },
      "source": [
        "Мы видим, что столбцы, содержащие числовые значения, не распознаются как числовые столбцы, а столбцы, содержащие даты, также не распознаются правильно. Имея столбцы с неправильными типами данных становятся препятствием для следующего шага, на котором мы анализировать тенденции и строить графики; этот шаг требует, чтобы типы данных столбцов были в\n",
        "формате, подходящем для чтения. В следующих строках кода мы используем метод ***pd.to_datetime*** для преобразования типа данных.\n",
        "столбцов «From Date» и «To Date» к типу datetime, что упрощает\n",
        "анализируйте отдельные компоненты даты, такие как месяцы и годы."
      ]
    },
    {
      "cell_type": "code",
      "metadata": {
        "id": "4oISNXEKYTOq"
      },
      "source": [
        "#Ваш код"
      ],
      "execution_count": null,
      "outputs": []
    },
    {
      "cell_type": "code",
      "metadata": {
        "id": "LZc9ZmtVYcP_"
      },
      "source": [
        "#Ваш код"
      ],
      "execution_count": null,
      "outputs": []
    },
    {
      "cell_type": "markdown",
      "metadata": {
        "id": "-OtbklLlYt4W"
      },
      "source": [
        "Поскольку большая часть нашего анализа рассматривает годовые данные, мы создаем новый столбец для извлечения\n",
        "года, используя функцию **pd.DatetimeIndex**."
      ]
    },
    {
      "cell_type": "code",
      "metadata": {
        "id": "733C6_uwYpf5"
      },
      "source": [
        "#Ваш код"
      ],
      "execution_count": null,
      "outputs": []
    },
    {
      "cell_type": "code",
      "metadata": {
        "id": "oVywGDj4Y08w"
      },
      "source": [
        "#Ваш код"
      ],
      "execution_count": null,
      "outputs": []
    },
    {
      "cell_type": "markdown",
      "metadata": {
        "id": "JtAX3GTXY7L9"
      },
      "source": [
        "Теперь давайте посмотрим на количество нулевых значений в данных за каждый год:"
      ]
    },
    {
      "cell_type": "code",
      "metadata": {
        "id": "YFGVyLgMY8hY"
      },
      "source": [
        "#Ваш код"
      ],
      "execution_count": null,
      "outputs": []
    },
    {
      "cell_type": "code",
      "metadata": {
        "id": "kD3CMkm5ZBwY"
      },
      "source": [
        "#Ваш код"
      ],
      "execution_count": null,
      "outputs": []
    },
    {
      "cell_type": "code",
      "metadata": {
        "id": "5pvo7f7YZElS"
      },
      "source": [
        "#Ваш код"
      ],
      "execution_count": null,
      "outputs": []
    },
    {
      "cell_type": "code",
      "metadata": {
        "id": "i7fSV5wTZHNf"
      },
      "source": [
        "#Ваш код"
      ],
      "execution_count": null,
      "outputs": []
    },
    {
      "cell_type": "code",
      "metadata": {
        "id": "zoMZJBBKZIfE"
      },
      "source": [
        "#Ваш код"
      ],
      "execution_count": null,
      "outputs": []
    },
    {
      "cell_type": "code",
      "metadata": {
        "id": "wrMimqA2ZLS4"
      },
      "source": [
        "#Ваш код"
      ],
      "execution_count": null,
      "outputs": []
    },
    {
      "cell_type": "markdown",
      "metadata": {
        "id": "50CsUht7ZXTO"
      },
      "source": [
        "Из анализа нулевых значений для каждого года мы видим, что данные за 2014 и\n",
        "2015 имеют большинство недостающих значений. Следовательно, мы предпочитаем игнорировать данные из\n",
        "2014 и 2015 годы, и проанализировать данные за 4 года с 2016 по 2019 год. В соответствии с нормами установлено Центральным советом по контролю за загрязнением, Индия, нам необходимо ежедневно контролировать не менее 104\n",
        "значения для получения среднегодовых значений.\n",
        "2016, 2017, 2018 и 2019 - это четыре года, за которые будут собираться данные о качестве воздуха. Прежде чем перейти к следующему шагу, мы отбрасываем недостающие значения для каждого года. с 2016 по 2019 год вместо их замены, поскольку у нас достаточно данных (более104 показаний) для каждого из этих четырех лет, чтобы рассчитать среднегодовые значения, как показано ниже."
      ]
    },
    {
      "cell_type": "code",
      "metadata": {
        "id": "GGmftsu4ZN9H"
      },
      "source": [
        "#Ваш код"
      ],
      "execution_count": null,
      "outputs": []
    },
    {
      "cell_type": "markdown",
      "metadata": {
        "id": "tWMlIsk-Zzy1"
      },
      "source": [
        "# **Шаг 3: Визуализация**"
      ]
    },
    {
      "cell_type": "code",
      "metadata": {
        "id": "__h85zA_ZzRh"
      },
      "source": [
        "Часть 1 анализа: построение среднегодовых значений загрязняющих веществ.\n",
        "На основе данных мониторинга средних 24-часовых концентраций в атмосферном воздухе PM2,5, SO2,\n",
        "NO2 и озон (O3), среднегодовые значения наносятся на график для определения параметров, для которых\n",
        "установленные национальные стандарты качества атмосферного воздуха для среднегодовых превышений.\n",
        "Сначала мы рассчитываем среднегодовые значения для каждого загрязнителя (PM2,5, SO2, NO2 и озон), как\n",
        "следует:"
      ],
      "execution_count": null,
      "outputs": []
    },
    {
      "cell_type": "code",
      "metadata": {
        "id": "1566jJMEZ7n-"
      },
      "source": [
        "#Ваш код"
      ],
      "execution_count": null,
      "outputs": []
    },
    {
      "cell_type": "markdown",
      "metadata": {
        "id": "_wTyS_71aF9b"
      },
      "source": [
        "Пояснение: Обозначения для именования переменных, представляющих средние значения загрязняющих веществ. выглядит следующим образом: первая буква загрязнителя, год и сокращение «avg» для в среднем. Например, s15avg обозначает средний уровень SO2 в 2015 году. Мы используем метод вычисления среднего и функция округления для округления среднего значение до двух десятичных знаков. Мы не рассматриваем озон, поскольку годовые стандарты не учитываются. применимо к озону. Затем мы создаем DataFrame для каждого загрязнителя с двумя столбцами в каждом. Один из столбцы представляют год, а другой столбец показывает средний годовой уровень для этот год."
      ]
    },
    {
      "cell_type": "code",
      "metadata": {
        "id": "b686YgFPaL4T"
      },
      "source": [
        "#Ваш код"
      ],
      "execution_count": null,
      "outputs": []
    },
    {
      "cell_type": "code",
      "metadata": {
        "id": "rh7LUX7saQbq"
      },
      "source": [
        "#Ваш код"
      ],
      "execution_count": null,
      "outputs": []
    },
    {
      "cell_type": "markdown",
      "metadata": {
        "id": "BTMYK3zYa4sI"
      },
      "source": [
        "Наблюдение: очевидно, что среднегодовые нормы превышаются только для PM2,5.\n",
        "Для NO2 наблюдаемые значения относительно близки к предписанному стандарту. Для SO2 наблюдаемые значения намного меньше годовой нормы. Поэтому для дальнейшего анализа учитываются только эти два загрязнителя (NO2 и PM2,5)"
      ]
    },
    {
      "cell_type": "markdown",
      "metadata": {
        "id": "pJFqYstCa9Ui"
      },
      "source": [
        "**Часть 2 анализа качества воздуха: график количества дней в году, когда 24 часа в сутки превышены нормы для PM2,5 и NO2**\n",
        "\n",
        "В то время как на этапе 1 анализа указываются загрязнители, вызывающие озабоченность с точки зрения управления качеством воздуха. и планирование вмешательств, на шаге 2, на каждый год, мы показываем, как различные уровни\n",
        "превышение нормативов для суточных значений распределяется. В случае PM2,5 мы\n",
        "нанесите на график количество дней в году, для которых наблюдаемые значения попадают в следующие диапазоны.\n",
        "  а. От 0 до 60 мкг / м3\n",
        "  б. От 61 до 120 мкг / м3\n",
        "  c. От 121 до 180 мкг / м3\n",
        "  d. > 180 мкг / м3\n",
        "Чтобы построить эти данные, нам нужно создать объекты DataFrame для каждого года с 2016 по 2019 год. фиксирование количества дней, в течение которых уровни PM2,5 падали в каждом из этих интервалов, как показано В следующих:"
      ]
    },
    {
      "cell_type": "markdown",
      "metadata": {
        "id": "5doanbfKcpn9"
      },
      "source": [
        "Вывод: наблюдаемые суточные значения NO2 превышаются только в течение трех из пяти лет.\n",
        "Поскольку наблюдаемые суточные значения NO2 превышают стандартные лишь незначительно и только в течение нескольких дней, следующий шаг ограничен дальнейшим анализом PM2,5.\n",
        "Часть 3 анализа качества воздуха: Определение месяцев, в которые суточные значения PM2,5 превышают критические уровни в большинстве дней Перед введением ограничений на такие виды деятельности, как движение транспортных средств и строительство, которые вносят значительный вклад в концентрации PM2,5 в окружающей среде, необходимо: предоставлять\n",
        "достаточное уведомление, чтобы избежать неудобств для широкой публики. Следовательно, для суточных значений PM2,5, значительно превышающих 180 мкг / м3, мы наносим график изменения во времени по годам в течение каждого месяца в году. Для этого для каждого из двенадцати месяцев мы фиксируем количество дней с критическим загрязнением воздуха каждый год с суточными значениями PM2,5, превышающими 180 мкг / м3.\n",
        "Сначала мы создаем кадры данных для каждого года с количеством дней в каждом месяце, когда значения PM2,5 превышают 180 мкг / м3, как показано ниже."
      ]
    },
    {
      "cell_type": "markdown",
      "metadata": {
        "id": "DLcxILWoeUMg"
      },
      "source": [
        "Из предыдущего графика видно, что большинство критически загрязненных дней приходится на Январь, ноябрь и декабрь. Следовательно, исходя из среднесуточных концентраций PM2,5 зафиксировано за последние четыре года, ограничения движения автотранспорта, строительство деятельность, использование дизельных насосных агрегатов, отклонение движения транспорта, прибывающего в Дели из соседних штатов, и другие аналогичные действия, вероятно, будут введены в январе, ноябре и Декабрь. Чтобы принять такие решения для Дели в целом, анализ данных из других\n",
        "также потребуются станции мониторинга. Распространение данных и анализ\n",
        "предыдущие строки помогут людям заранее подготовиться к ограничениям, а также\n",
        "оцените обоснование таких мер.\n",
        "Подход, продемонстрированный ранее, с использованием анализа данных в качестве инструмента, помогающего в управление качеством воздуха, использует данные, записанные на одной станции мониторинга, расположенной в\n",
        "Технологический институт Нетаджи Субхаса (NSIT), Дели. Методология могла быть осуществлена вперед по следующим строкам.\n",
        " а. Повторите предыдущий шаг для NO2, чтобы показать критические месяцы, в которые приходится на большую часть дней с зарегистрированными значениями NO2, превышающими 24-часовые стандарты. Выполнение этого упражнения снова поможет определить месяцев, когда уровни загрязнения вызывают озабоченность по обоим параметрам, PM2.5 и NO2, и план.\n",
        " б. Повторите анализ, проведенный с данными о качестве воздуха.станции мониторинга НСИТ с использованием аналогичных данных из другие станции, чтобы интервенции для Дели в целом могли быть планируется."
      ]
    }
  ]
}