{
  "nbformat": 4,
  "nbformat_minor": 0,
  "metadata": {
    "colab": {
      "name": "12.02.ipynb",
      "provenance": [],
      "authorship_tag": "ABX9TyMPLja9rt+eqPsshMwIJtx3",
      "include_colab_link": true
    },
    "kernelspec": {
      "name": "python3",
      "display_name": "Python 3"
    }
  },
  "cells": [
    {
      "cell_type": "markdown",
      "metadata": {
        "id": "view-in-github",
        "colab_type": "text"
      },
      "source": [
        "<a href=\"https://colab.research.google.com/github/Anna-bashkatova/ProgramAnalitik/blob/main/12_02.ipynb\" target=\"_parent\"><img src=\"https://colab.research.google.com/assets/colab-badge.svg\" alt=\"Open In Colab\"/></a>"
      ]
    },
    {
      "cell_type": "markdown",
      "metadata": {
        "id": "e4DSuxGC_xpK"
      },
      "source": [
        ""
      ]
    },
    {
      "cell_type": "code",
      "metadata": {
        "id": "I_hEgUwbCPOX"
      },
      "source": [
        "import timeit\r\n",
        "import numpy as np\r\n",
        "\r\n",
        "def time_range(size):\r\n",
        "  for i in range(size):\r\n",
        "    pass\r\n",
        "\r\n",
        "def time_arange(size):\r\n",
        "  np.arange(size)\r\n",
        "\r\n",
        "if __name__== '__main__':\r\n",
        "  #For smaller arrays\r\n",
        "  #print('Array size: 1000')\r\n",
        "  \r\n",
        "  start_time = timeit.default_timer();\r\n",
        "  time_range(12)\r\n",
        "  range_time_1 = timeit.default_timer() - start_time\r\n",
        "\r\n",
        "  start_time = timeit.default_timer();\r\n",
        "  time_arange(12)\r\n",
        "  arange_time_1 = timeit.default_timer() - start_time\r\n",
        "\r\n",
        "  #For smaller arrays\r\n",
        "  #print('Array size: 1000000')\r\n",
        "\r\n",
        "  start_time = timeit.default_timer();\r\n",
        "  time_range(6)\r\n",
        "  range_time_2 = timeit.default_timer() - start_time\r\n",
        "\r\n",
        "  start_time = timeit.default_timer();\r\n",
        "  time_arange(6)\r\n",
        "  arange_time_2 = timeit.default_timer() - start_time\r\n",
        "\r\n",
        "\r\n"
      ],
      "execution_count": null,
      "outputs": []
    },
    {
      "cell_type": "code",
      "metadata": {
        "colab": {
          "base_uri": "https://localhost:8080/"
        },
        "id": "0bOI72YpEvSN",
        "outputId": "688f8d35-db03-4947-bec1-d46b70f2f4cf"
      },
      "source": [
        "print('Array size: 1000')\r\n",
        "\r\n",
        "print(f'size 30: range() время {range_time_1}')\r\n",
        "print(f'size 30: arange() время {arange_time_1}')\r\n",
        "\r\n",
        "print('Array size: 100000000')\r\n",
        "\r\n",
        "print(f'size 100000000: range() время {range_time_2}')\r\n",
        "print(f'size 100000000: arange() время {arange_time_2}')"
      ],
      "execution_count": null,
      "outputs": [
        {
          "output_type": "stream",
          "text": [
            "Array size: 1000\n",
            "size 30: range() время 2.7159999262948986e-06\n",
            "size 30: arange() время 2.5871999696391867e-05\n",
            "Array size: 100000000\n",
            "size 100000000: range() время 1.5679997886763886e-06\n",
            "size 100000000: arange() время 2.4259998099296354e-06\n"
          ],
          "name": "stdout"
        }
      ]
    },
    {
      "cell_type": "markdown",
      "metadata": {
        "id": "A3tTIAlIGSWJ"
      },
      "source": [
        "range() на малы данных\r\n",
        "np на больших массивах"
      ]
    }
  ]
}