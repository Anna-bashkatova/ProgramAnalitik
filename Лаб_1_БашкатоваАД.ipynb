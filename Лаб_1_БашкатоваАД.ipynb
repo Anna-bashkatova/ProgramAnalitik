{
  "nbformat": 4,
  "nbformat_minor": 0,
  "metadata": {
    "colab": {
      "name": "Лаб_1_БашкатоваАД.ipynb",
      "provenance": [],
      "authorship_tag": "ABX9TyNP+GFnzT7Cpmql5xkHZ1VH",
      "include_colab_link": true
    },
    "kernelspec": {
      "name": "python3",
      "display_name": "Python 3"
    }
  },
  "cells": [
    {
      "cell_type": "markdown",
      "metadata": {
        "id": "view-in-github",
        "colab_type": "text"
      },
      "source": [
        "<a href=\"https://colab.research.google.com/github/Anna-bashkatova/ProgramAnalitik/blob/main/%D0%9B%D0%B0%D0%B1_1_%D0%91%D0%B0%D1%88%D0%BA%D0%B0%D1%82%D0%BE%D0%B2%D0%B0%D0%90%D0%94.ipynb\" target=\"_parent\"><img src=\"https://colab.research.google.com/assets/colab-badge.svg\" alt=\"Open In Colab\"/></a>"
      ]
    },
    {
      "cell_type": "markdown",
      "metadata": {
        "id": "DfoPqOOGECRU"
      },
      "source": [
        "## 1.11. Вариант\r\n",
        "Считайте 2 числа: n, m. Зафиксируйте значение генератора случайных чисел Numpy с\r\n",
        "помощью numpy.random.seed(42).Создайте матрицу n*m из случайных чисел (от 0 до 1).\r\n",
        "Выведите на печать значение среднего для всей матрицы."
      ]
    },
    {
      "cell_type": "code",
      "metadata": {
        "colab": {
          "base_uri": "https://localhost:8080/"
        },
        "id": "0fgMt5JbD_tG",
        "outputId": "8b1ee30a-6f64-47be-d363-eba344dad648"
      },
      "source": [
        "import random\r\n",
        "from random import randint\r\n",
        "random.seed(42)\r\n",
        "k, p = 12, 6\r\n",
        "m = [[randint(0, 1) for j in range(p)] for i in range(k)]\r\n",
        "summa = 0\r\n",
        "for row in m:\r\n",
        "        summa += sum(row)\r\n",
        "        q = summa / (k*p)\r\n",
        "print(q)"
      ],
      "execution_count": 5,
      "outputs": [
        {
          "output_type": "stream",
          "text": [
            "0.4166666666666667\n"
          ],
          "name": "stdout"
        }
      ]
    },
    {
      "cell_type": "code",
      "metadata": {
        "colab": {
          "base_uri": "https://localhost:8080/"
        },
        "id": "Zm9H0TTSEFHM",
        "outputId": "f0382bd9-a180-4936-bc0f-585edab0e32d"
      },
      "source": [
        "import numpy as np\r\n",
        "n = 12\r\n",
        "m = 6\r\n",
        "np.random.seed(42)\r\n",
        "a = np.random.randint(0, 2, size=(n, m))\r\n",
        "k = np.mean(a)\r\n",
        "print(k)\r\n"
      ],
      "execution_count": 6,
      "outputs": [
        {
          "output_type": "stream",
          "text": [
            "0.5138888888888888\n"
          ],
          "name": "stdout"
        }
      ]
    },
    {
      "cell_type": "code",
      "metadata": {
        "id": "3dFWmog7EJw6"
      },
      "source": [
        "import timeit \r\n",
        "import numpy as np\r\n",
        "from random import randint\r\n",
        "\r\n",
        "def time_python(size): \r\n",
        "  [[randint(0, 1) for j in range(size)] for i in range(size)]\r\n",
        "  pass \r\n",
        "\r\n",
        "def time_numpy(size):\r\n",
        "   np.random.randint(size)\r\n",
        "\r\n",
        "if __name__ == '__main__': \r\n",
        "\r\n",
        "    start_time = timeit.default_timer();\r\n",
        "    time_python(2) \r\n",
        "    python_time_1 = timeit.default_timer() - start_time \r\n",
        "\r\n",
        "    start_time = timeit.default_timer(); \r\n",
        "    time_numpy(2) \r\n",
        "    numpy_time_1 = timeit.default_timer() - start_time \r\n",
        "\r\n",
        "    start_time = timeit.default_timer(); \r\n",
        "    time_python(10) \r\n",
        "    python_time_2 = timeit.default_timer() - start_time \r\n",
        "\r\n",
        "    start_time = timeit.default_timer(); \r\n",
        "    time_numpy(10) \r\n",
        "    numpy_time_2 = timeit.default_timer() - start_time"
      ],
      "execution_count": 7,
      "outputs": []
    },
    {
      "cell_type": "code",
      "metadata": {
        "colab": {
          "base_uri": "https://localhost:8080/"
        },
        "id": "DXZglajoEL8S",
        "outputId": "fe8436d6-45be-4d47-a866-679ee4d30043"
      },
      "source": [
        "print('Array size: 2') \r\n",
        "\r\n",
        "print(f'size 2: python время {python_time_1}') \r\n",
        "print(f'size 2: numpy время {numpy_time_1}') \r\n",
        "\r\n",
        "print('Array size: 100') \r\n",
        "print(f'size 100: python время {python_time_2}') \r\n",
        "print(f'size 100: numpy время {numpy_time_2}')"
      ],
      "execution_count": 8,
      "outputs": [
        {
          "output_type": "stream",
          "text": [
            "Array size: 2\n",
            "size 2: python время 1.525199996876836e-05\n",
            "size 2: numpy время 4.1061999979774555e-05\n",
            "Array size: 100\n",
            "size 100: python время 0.00013383699996438736\n",
            "size 100: numpy время 6.471999995483202e-06\n"
          ],
          "name": "stdout"
        }
      ]
    },
    {
      "cell_type": "markdown",
      "metadata": {
        "id": "8stG3ff4EPjF"
      },
      "source": [
        "# Вывод:\r\n",
        "При работе с большими массивами быстрее реализовывается Nampy, по сравнению с Python (время изменяется в зависимости от размера матрицы и изменения возможных рандомных чисел)"
      ]
    }
  ]
}