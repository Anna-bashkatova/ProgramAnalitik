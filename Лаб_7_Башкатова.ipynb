{
  "nbformat": 4,
  "nbformat_minor": 0,
  "metadata": {
    "colab": {
      "name": "Лаб_7_Башкатова.ipynb",
      "provenance": [],
      "authorship_tag": "ABX9TyPHcKSiNLzUV0ESV/XU/4p3",
      "include_colab_link": true
    },
    "kernelspec": {
      "name": "python3",
      "display_name": "Python 3"
    },
    "language_info": {
      "name": "python"
    }
  },
  "cells": [
    {
      "cell_type": "markdown",
      "metadata": {
        "id": "view-in-github",
        "colab_type": "text"
      },
      "source": [
        "<a href=\"https://colab.research.google.com/github/Anna-bashkatova/ProgramAnalitik/blob/main/%D0%9B%D0%B0%D0%B1_7_%D0%91%D0%B0%D1%88%D0%BA%D0%B0%D1%82%D0%BE%D0%B2%D0%B0.ipynb\" target=\"_parent\"><img src=\"https://colab.research.google.com/assets/colab-badge.svg\" alt=\"Open In Colab\"/></a>"
      ]
    },
    {
      "cell_type": "markdown",
      "metadata": {
        "id": "08GHi-xyrKSn"
      },
      "source": [
        "# Пример из Лабораторной работы"
      ]
    },
    {
      "cell_type": "code",
      "metadata": {
        "colab": {
          "resources": {
            "http://localhost:8080/nbextensions/google.colab/files.js": {
              "data": "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",
              "ok": true,
              "headers": [
                [
                  "content-type",
                  "application/javascript"
                ]
              ],
              "status": 200,
              "status_text": ""
            }
          },
          "base_uri": "https://localhost:8080/",
          "height": 73
        },
        "id": "QbSC875Iu5Oc",
        "outputId": "5744c01c-9948-4e73-a2f3-3e2808ac0608"
      },
      "source": [
        "from google.colab import files\n",
        "unploaded = files.upload()"
      ],
      "execution_count": 1,
      "outputs": [
        {
          "output_type": "display_data",
          "data": {
            "text/html": [
              "\n",
              "     <input type=\"file\" id=\"files-476fd06a-adac-4a3e-8e66-1f23b36991f0\" name=\"files[]\" multiple disabled\n",
              "        style=\"border:none\" />\n",
              "     <output id=\"result-476fd06a-adac-4a3e-8e66-1f23b36991f0\">\n",
              "      Upload widget is only available when the cell has been executed in the\n",
              "      current browser session. Please rerun this cell to enable.\n",
              "      </output>\n",
              "      <script src=\"/nbextensions/google.colab/files.js\"></script> "
            ],
            "text/plain": [
              "<IPython.core.display.HTML object>"
            ]
          },
          "metadata": {
            "tags": []
          }
        },
        {
          "output_type": "stream",
          "text": [
            "Saving dataset7.csv to dataset7.csv\n"
          ],
          "name": "stdout"
        }
      ]
    },
    {
      "cell_type": "code",
      "metadata": {
        "colab": {
          "base_uri": "https://localhost:8080/"
        },
        "id": "-z147EkNqaW6",
        "outputId": "8067e2e2-4a1b-411f-bd6f-fe2894b6be98"
      },
      "source": [
        "from pandas import read_csv\n",
        "from sklearn.preprocessing import MinMaxScaler\n",
        "\n",
        "series=read_csv('dataset7.csv', header=0,index_col=0)\n",
        "print(series.head())\n",
        "\n",
        "values = series.values\n",
        "values = values.reshape((len(values),1))\n",
        "\n",
        "scaler = MinMaxScaler(feature_range=(0,1))\n",
        "scaler=scaler.fit(values)\n",
        "print('Min:%f, Max:%f' % (scaler.data_min_, scaler.data_max_))\n",
        "\n",
        "normalized=scaler.transform(values)\n",
        "for i in range(5):\n",
        "  print(normalized[i])\n",
        "\n",
        "inversed=scaler.inverse_transform(normalized)\n",
        "for i in range(5):\n",
        "  print(inversed[i])"
      ],
      "execution_count": 2,
      "outputs": [
        {
          "output_type": "stream",
          "text": [
            "            Temp\n",
            "Date            \n",
            "1981-01-01  20.7\n",
            "1981-01-02  17.9\n",
            "1981-01-03  18.8\n",
            "1981-01-04  14.6\n",
            "1981-01-05  15.8\n",
            "Min:0.000000, Max:26.300000\n",
            "[0.78707224]\n",
            "[0.68060837]\n",
            "[0.7148289]\n",
            "[0.55513308]\n",
            "[0.60076046]\n",
            "[20.7]\n",
            "[17.9]\n",
            "[18.8]\n",
            "[14.6]\n",
            "[15.8]\n"
          ],
          "name": "stdout"
        }
      ]
    },
    {
      "cell_type": "code",
      "metadata": {
        "colab": {
          "base_uri": "https://localhost:8080/",
          "height": 281
        },
        "id": "NcViq56CvZoC",
        "outputId": "cf301f4a-8635-4633-a81d-9d5847798e10"
      },
      "source": [
        "from pandas import read_csv\n",
        "from matplotlib import pyplot\n",
        "series = read_csv('dataset7.csv',header=0,index_col=0)\n",
        "series.hist()\n",
        "pyplot.show()"
      ],
      "execution_count": 3,
      "outputs": [
        {
          "output_type": "display_data",
          "data": {
            "image/png": "[encoded data removed]",
            "text/plain": [
              "<Figure size 432x288 with 1 Axes>"
            ]
          },
          "metadata": {
            "tags": [],
            "needs_background": "light"
          }
        }
      ]
    },
    {
      "cell_type": "code",
      "metadata": {
        "colab": {
          "base_uri": "https://localhost:8080/"
        },
        "id": "FdsWz2r2vg_p",
        "outputId": "df896b5d-5b05-4dcd-87af-c979a80d500d"
      },
      "source": [
        "from pandas import read_csv\n",
        "from sklearn.preprocessing import StandardScaler\n",
        "from math import sqrt\n",
        "\n",
        "series=read_csv('dataset7.csv', header=0,index_col=0)\n",
        "print(series.head())\n",
        "values=series.values\n",
        "values=values.reshape((len(values),1))\n",
        "\n",
        "scaler=StandardScaler()\n",
        "scaler=scaler.fit(values)\n",
        "print('Mean: %f, StandardDeviation:%f' % (scaler.mean_, sqrt(scaler.var_)))\n",
        "\n",
        "normalized=scaler.transform(values)\n",
        "for i in range(5):\n",
        "  print(normalized[i])\n",
        "\n",
        "inversed=scaler.inverse_transform(normalized)\n",
        "for i in range(5):\n",
        "  print(inversed[i])"
      ],
      "execution_count": 4,
      "outputs": [
        {
          "output_type": "stream",
          "text": [
            "            Temp\n",
            "Date            \n",
            "1981-01-01  20.7\n",
            "1981-01-02  17.9\n",
            "1981-01-03  18.8\n",
            "1981-01-04  14.6\n",
            "1981-01-05  15.8\n",
            "Mean: 11.177753, StandardDeviation:4.071279\n",
            "[2.33888328]\n",
            "[1.65113873]\n",
            "[1.87219948]\n",
            "[0.84058266]\n",
            "[1.13533032]\n",
            "[20.7]\n",
            "[17.9]\n",
            "[18.8]\n",
            "[14.6]\n",
            "[15.8]\n"
          ],
          "name": "stdout"
        }
      ]
    },
    {
      "cell_type": "markdown",
      "metadata": {
        "id": "EsXX-MRIt5Nw"
      },
      "source": [
        "# Задание 1"
      ]
    },
    {
      "cell_type": "code",
      "metadata": {
        "id": "hYolxEa7yEER"
      },
      "source": [
        "import requests \n",
        "import pandas as pd\n",
        "from pandas import read_html\n",
        "\n",
        "url='http://pogoda-service.ru/archive_gsod_res.php?country=IS&station=401800&datepicker_beg=01.12.2010&datepicker_end=01.12.2020&bsubmit=%D0%9F%D0%BE%D1%81%D0%BC%D0%BE%D1%82%D1%80%D0%B5%D1%82%D1%8C'\n",
        "req = requests.get(url)\n",
        "data = pd.read_html(req.text)\n",
        "df = data[0]"
      ],
      "execution_count": 5,
      "outputs": []
    },
    {
      "cell_type": "code",
      "metadata": {
        "colab": {
          "base_uri": "https://localhost:8080/",
          "height": 212
        },
        "id": "VPOmilpXHbCX",
        "outputId": "df8539c3-97b4-49d8-eb27-ed950b91f57a"
      },
      "source": [
        "df.head()"
      ],
      "execution_count": 6,
      "outputs": [
        {
          "output_type": "execute_result",
          "data": {
            "text/html": [
              "<div>\n",
              "<style scoped>\n",
              "    .dataframe tbody tr th:only-of-type {\n",
              "        vertical-align: middle;\n",
              "    }\n",
              "\n",
              "    .dataframe tbody tr th {\n",
              "        vertical-align: top;\n",
              "    }\n",
              "\n",
              "    .dataframe thead th {\n",
              "        text-align: right;\n",
              "    }\n",
              "</style>\n",
              "<table border=\"1\" class=\"dataframe\">\n",
              "  <thead>\n",
              "    <tr style=\"text-align: right;\">\n",
              "      <th></th>\n",
              "      <th>ÐÐ°ÑÐ°</th>\n",
              "      <th>ÐÐ°ÐºÑÐ¸Ð¼Ð°Ð»ÑÐ½Ð°Ñ ÑÐµÐ¼Ð¿ÐµÑÐ°ÑÑÑÐ°</th>\n",
              "      <th>ÐÐ¸Ð½Ð¸Ð¼Ð°Ð»ÑÐ½Ð°Ñ ÑÐµÐ¼Ð¿ÐµÑÐ°ÑÑÑÐ°</th>\n",
              "      <th>Ð¡ÑÐµÐ´Ð½ÑÑ ÑÐµÐ¼Ð¿ÐµÑÐ°ÑÑÑÐ°</th>\n",
              "      <th>ÐÑÐ¼Ð¾ÑÑÐµÑÐ½Ð¾Ðµ Ð´Ð°Ð²Ð»ÐµÐ½Ð¸Ðµ</th>\n",
              "      <th>Ð¡ÐºÐ¾ÑÐ¾ÑÑÑ Ð²ÐµÑÑÐ°</th>\n",
              "      <th>ÐÑÐ°Ð´ÐºÐ¸</th>\n",
              "      <th>Ð­ÑÑÐµÐºÑÐ¸Ð²Ð½Ð°Ñ ÑÐµÐ¼Ð¿ÐµÑÐ°ÑÑÑÐ°</th>\n",
              "    </tr>\n",
              "  </thead>\n",
              "  <tbody>\n",
              "    <tr>\n",
              "      <th>0</th>\n",
              "      <td>01.12.2010</td>\n",
              "      <td>28.7</td>\n",
              "      <td>9.1</td>\n",
              "      <td>18.3</td>\n",
              "      <td>NaN</td>\n",
              "      <td>2</td>\n",
              "      <td>0.0</td>\n",
              "      <td>16.5</td>\n",
              "    </tr>\n",
              "    <tr>\n",
              "      <th>1</th>\n",
              "      <td>02.12.2010</td>\n",
              "      <td>28.5</td>\n",
              "      <td>10.0</td>\n",
              "      <td>18.2</td>\n",
              "      <td>NaN</td>\n",
              "      <td>1</td>\n",
              "      <td>0.0</td>\n",
              "      <td>17.1</td>\n",
              "    </tr>\n",
              "    <tr>\n",
              "      <th>2</th>\n",
              "      <td>03.12.2010</td>\n",
              "      <td>30.3</td>\n",
              "      <td>9.0</td>\n",
              "      <td>19.2</td>\n",
              "      <td>NaN</td>\n",
              "      <td>2</td>\n",
              "      <td>0.0</td>\n",
              "      <td>16.8</td>\n",
              "    </tr>\n",
              "    <tr>\n",
              "      <th>3</th>\n",
              "      <td>04.12.2010</td>\n",
              "      <td>31.4</td>\n",
              "      <td>10.0</td>\n",
              "      <td>18.9</td>\n",
              "      <td>NaN</td>\n",
              "      <td>2</td>\n",
              "      <td>0.0</td>\n",
              "      <td>16.7</td>\n",
              "    </tr>\n",
              "    <tr>\n",
              "      <th>4</th>\n",
              "      <td>05.12.2010</td>\n",
              "      <td>26.2</td>\n",
              "      <td>8.7</td>\n",
              "      <td>18.6</td>\n",
              "      <td>NaN</td>\n",
              "      <td>2</td>\n",
              "      <td>0.0</td>\n",
              "      <td>17.3</td>\n",
              "    </tr>\n",
              "  </tbody>\n",
              "</table>\n",
              "</div>"
            ],
            "text/plain": [
              "     ÐÐ°ÑÐ°  ...  Ð­ÑÑÐµÐºÑÐ¸Ð²Ð½Ð°Ñ ÑÐµÐ¼Ð¿ÐµÑÐ°ÑÑÑÐ°\n",
              "0  01.12.2010  ...                                           16.5\n",
              "1  02.12.2010  ...                                           17.1\n",
              "2  03.12.2010  ...                                           16.8\n",
              "3  04.12.2010  ...                                           16.7\n",
              "4  05.12.2010  ...                                           17.3\n",
              "\n",
              "[5 rows x 8 columns]"
            ]
          },
          "metadata": {
            "tags": []
          },
          "execution_count": 6
        }
      ]
    },
    {
      "cell_type": "code",
      "metadata": {
        "id": "aILF3dLCgp2a"
      },
      "source": [
        "df.columns=['Дата','Максимальная температура', 'Минимальная температура', 'Средняя температура', 'Атмосферное давление', 'Скорость ветра', 'Осадки', 'Эффективная температура']"
      ],
      "execution_count": 7,
      "outputs": []
    },
    {
      "cell_type": "code",
      "metadata": {
        "id": "ry9fAruBIGvo"
      },
      "source": [
        "df.drop(['Максимальная температура','Минимальная температура','Атмосферное давление', 'Скорость ветра','Осадки','Эффективная температура'], axis = 1, inplace=True)"
      ],
      "execution_count": 8,
      "outputs": []
    },
    {
      "cell_type": "code",
      "metadata": {
        "id": "ZTxiTKzYkYBn"
      },
      "source": [
        "df['Дата'] = df['Дата'].astype('datetime64')"
      ],
      "execution_count": 9,
      "outputs": []
    },
    {
      "cell_type": "code",
      "metadata": {
        "id": "k3vkVoLQqS6T"
      },
      "source": [
        "df = df.set_index('Дата')"
      ],
      "execution_count": 10,
      "outputs": []
    },
    {
      "cell_type": "code",
      "metadata": {
        "colab": {
          "base_uri": "https://localhost:8080/",
          "height": 225
        },
        "id": "80TWxlv8nvCy",
        "outputId": "106e5cf5-758b-476e-abe9-38e3d8d2fb7d"
      },
      "source": [
        "df.head()"
      ],
      "execution_count": 11,
      "outputs": [
        {
          "output_type": "execute_result",
          "data": {
            "text/html": [
              "<div>\n",
              "<style scoped>\n",
              "    .dataframe tbody tr th:only-of-type {\n",
              "        vertical-align: middle;\n",
              "    }\n",
              "\n",
              "    .dataframe tbody tr th {\n",
              "        vertical-align: top;\n",
              "    }\n",
              "\n",
              "    .dataframe thead th {\n",
              "        text-align: right;\n",
              "    }\n",
              "</style>\n",
              "<table border=\"1\" class=\"dataframe\">\n",
              "  <thead>\n",
              "    <tr style=\"text-align: right;\">\n",
              "      <th></th>\n",
              "      <th>Средняя температура</th>\n",
              "    </tr>\n",
              "    <tr>\n",
              "      <th>Дата</th>\n",
              "      <th></th>\n",
              "    </tr>\n",
              "  </thead>\n",
              "  <tbody>\n",
              "    <tr>\n",
              "      <th>2010-01-12</th>\n",
              "      <td>18.3</td>\n",
              "    </tr>\n",
              "    <tr>\n",
              "      <th>2010-02-12</th>\n",
              "      <td>18.2</td>\n",
              "    </tr>\n",
              "    <tr>\n",
              "      <th>2010-03-12</th>\n",
              "      <td>19.2</td>\n",
              "    </tr>\n",
              "    <tr>\n",
              "      <th>2010-04-12</th>\n",
              "      <td>18.9</td>\n",
              "    </tr>\n",
              "    <tr>\n",
              "      <th>2010-05-12</th>\n",
              "      <td>18.6</td>\n",
              "    </tr>\n",
              "  </tbody>\n",
              "</table>\n",
              "</div>"
            ],
            "text/plain": [
              "            Средняя температура\n",
              "Дата                           \n",
              "2010-01-12                 18.3\n",
              "2010-02-12                 18.2\n",
              "2010-03-12                 19.2\n",
              "2010-04-12                 18.9\n",
              "2010-05-12                 18.6"
            ]
          },
          "metadata": {
            "tags": []
          },
          "execution_count": 11
        }
      ]
    },
    {
      "cell_type": "code",
      "metadata": {
        "colab": {
          "base_uri": "https://localhost:8080/"
        },
        "id": "_6wqigHparyM",
        "outputId": "c9b57395-f568-4330-cfe2-cd522ec88c23"
      },
      "source": [
        "df.info()"
      ],
      "execution_count": 12,
      "outputs": [
        {
          "output_type": "stream",
          "text": [
            "<class 'pandas.core.frame.DataFrame'>\n",
            "DatetimeIndex: 1000 entries, 2010-01-12 to 2013-08-28\n",
            "Data columns (total 1 columns):\n",
            " #   Column               Non-Null Count  Dtype  \n",
            "---  ------               --------------  -----  \n",
            " 0   Средняя температура  1000 non-null   float64\n",
            "dtypes: float64(1)\n",
            "memory usage: 15.6 KB\n"
          ],
          "name": "stdout"
        }
      ]
    },
    {
      "cell_type": "code",
      "metadata": {
        "colab": {
          "base_uri": "https://localhost:8080/"
        },
        "id": "PMG07_SghxDN",
        "outputId": "0330f6ec-e63d-4729-d091-17e221fa2bac"
      },
      "source": [
        "from pandas import read_csv\n",
        "from sklearn.preprocessing import MinMaxScaler\n",
        "\n",
        "print(df.head())\n",
        "\n",
        "values = df.values\n",
        "values = values.reshape((len(values),1))\n",
        "\n",
        "scaler = MinMaxScaler(feature_range=(0,1))\n",
        "scaler=scaler.fit(values)\n",
        "print('Min:%f, Max:%f' % (scaler.data_min_, scaler.data_max_))\n",
        "\n",
        "normalized=scaler.transform(values)\n",
        "for i in range(5):\n",
        "  print(normalized[i])\n",
        "\n",
        "inversed=scaler.inverse_transform(normalized)\n",
        "for i in range(5):\n",
        "  print(inversed[i])"
      ],
      "execution_count": 13,
      "outputs": [
        {
          "output_type": "stream",
          "text": [
            "            Средняя температура\n",
            "Дата                           \n",
            "2010-01-12                 18.3\n",
            "2010-02-12                 18.2\n",
            "2010-03-12                 19.2\n",
            "2010-04-12                 18.9\n",
            "2010-05-12                 18.6\n",
            "Min:8.100000, Max:31.800000\n",
            "[0.43037975]\n",
            "[0.42616034]\n",
            "[0.46835443]\n",
            "[0.4556962]\n",
            "[0.44303797]\n",
            "[18.3]\n",
            "[18.2]\n",
            "[19.2]\n",
            "[18.9]\n",
            "[18.6]\n"
          ],
          "name": "stdout"
        }
      ]
    },
    {
      "cell_type": "markdown",
      "metadata": {
        "id": "_YeRC-kCt9DA"
      },
      "source": [
        "# Задание 2"
      ]
    },
    {
      "cell_type": "code",
      "metadata": {
        "colab": {
          "base_uri": "https://localhost:8080/",
          "height": 281
        },
        "id": "QwF1lrB4jxqD",
        "outputId": "f4317070-fdae-4b18-d3c3-4489fd1e872d"
      },
      "source": [
        "from pandas import read_csv\n",
        "from matplotlib import pyplot\n",
        "series = df\n",
        "series.hist()\n",
        "pyplot.show()"
      ],
      "execution_count": 19,
      "outputs": [
        {
          "output_type": "display_data",
          "data": {
            "image/png": "[encoded data removed]",
            "text/plain": [
              "<Figure size 432x288 with 1 Axes>"
            ]
          },
          "metadata": {
            "tags": [],
            "needs_background": "light"
          }
        }
      ]
    },
    {
      "cell_type": "code",
      "metadata": {
        "colab": {
          "base_uri": "https://localhost:8080/"
        },
        "id": "YiiWPL-ouA4U",
        "outputId": "1c54a168-6cd9-4eb4-b236-71c1a958d13a"
      },
      "source": [
        "from pandas import read_csv\n",
        "from sklearn.preprocessing import StandardScaler\n",
        "from math import sqrt\n",
        "\n",
        "#series=read_csv('dataset7.csv', header=0,index_col=0)\n",
        "print(df.head())\n",
        "values=df.values\n",
        "values=values.reshape((len(values),1))\n",
        "\n",
        "scaler=StandardScaler()\n",
        "scaler=scaler.fit(values)\n",
        "print('Mean: %f, StandardDeviation:%f' % (scaler.mean_, sqrt(scaler.var_)))\n",
        "\n",
        "normalized=scaler.transform(values)\n",
        "for i in range(5):\n",
        "  print(normalized[i])\n",
        "\n",
        "inversed=scaler.inverse_transform(normalized)\n",
        "for i in range(5):\n",
        "  print(inversed[i])"
      ],
      "execution_count": 14,
      "outputs": [
        {
          "output_type": "stream",
          "text": [
            "            Средняя температура\n",
            "Дата                           \n",
            "2010-01-12                 18.3\n",
            "2010-02-12                 18.2\n",
            "2010-03-12                 19.2\n",
            "2010-04-12                 18.9\n",
            "2010-05-12                 18.6\n",
            "Mean: 21.033900, StandardDeviation:5.699804\n",
            "[-0.47964811]\n",
            "[-0.49719257]\n",
            "[-0.32174793]\n",
            "[-0.37438132]\n",
            "[-0.42701472]\n",
            "[18.3]\n",
            "[18.2]\n",
            "[19.2]\n",
            "[18.9]\n",
            "[18.6]\n"
          ],
          "name": "stdout"
        }
      ]
    },
    {
      "cell_type": "markdown",
      "metadata": {
        "id": "65WdG5iqvNUN"
      },
      "source": [
        "# Таблица"
      ]
    },
    {
      "cell_type": "markdown",
      "metadata": {
        "id": "qNtYwU8FvQIn"
      },
      "source": [
        "![image.png](data:image/png;base64,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)"
      ]
    }
  ]
}