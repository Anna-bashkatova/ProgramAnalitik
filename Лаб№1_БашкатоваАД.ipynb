{
  "nbformat": 4,
  "nbformat_minor": 0,
  "metadata": {
    "colab": {
      "name": "Лаб№1_БашкатоваАД.ipynb",
      "provenance": [],
      "authorship_tag": "ABX9TyNtckOaWi+p4Q+d3fJCM6BS",
      "include_colab_link": true
    },
    "kernelspec": {
      "name": "python3",
      "display_name": "Python 3"
    }
  },
  "cells": [
    {
      "cell_type": "markdown",
      "metadata": {
        "id": "view-in-github",
        "colab_type": "text"
      },
      "source": [
        "<a href=\"https://colab.research.google.com/github/Anna-bashkatova/ProgramAnalitik/blob/main/%D0%9B%D0%B0%D0%B1%E2%84%961_%D0%91%D0%B0%D1%88%D0%BA%D0%B0%D1%82%D0%BE%D0%B2%D0%B0%D0%90%D0%94.ipynb\" target=\"_parent\"><img src=\"https://colab.research.google.com/assets/colab-badge.svg\" alt=\"Open In Colab\"/></a>"
      ]
    },
    {
      "cell_type": "markdown",
      "metadata": {
        "id": "9wAaH7_BtctM"
      },
      "source": [
        "## 1.11. Вариант\r\n",
        "Считайте 2 числа: n, m. Зафиксируйте значение генератора случайных чисел Numpy с\r\n",
        "помощью numpy.random.seed(42).Создайте матрицу n*m из случайных чисел (от 0 до 1).\r\n",
        "Выведите на печать значение среднего для всей матрицы."
      ]
    },
    {
      "cell_type": "code",
      "metadata": {
        "colab": {
          "base_uri": "https://localhost:8080/"
        },
        "id": "NTwSUD_MFMfI",
        "outputId": "4b67ed85-bf51-4b70-d31c-d49b433b20ab"
      },
      "source": [
        "import random\r\n",
        "from random import randint\r\n",
        "random.seed(42)\r\n",
        "k, p = 12, 6\r\n",
        "m = [[randint(0, 1) for j in range(p)] for i in range(k)]\r\n",
        "#for row in m:\r\n",
        "  #print(row)\r\n",
        "summa = 0\r\n",
        "for row in m:\r\n",
        "        summa += sum(row)\r\n",
        "        q = summa / (k*p)\r\n",
        "print(q)"
      ],
      "execution_count": null,
      "outputs": [
        {
          "output_type": "stream",
          "text": [
            "0.4166666666666667\n"
          ],
          "name": "stdout"
        }
      ]
    },
    {
      "cell_type": "code",
      "metadata": {
        "colab": {
          "base_uri": "https://localhost:8080/"
        },
        "id": "CuTc1mpUsDHj",
        "outputId": "9f13fb70-046f-4290-d1d5-65d7d283efd3"
      },
      "source": [
        "import numpy as np\r\n",
        "n = 12\r\n",
        "m = 6\r\n",
        "np.random.seed(42)\r\n",
        "a = np.random.randint(0, 2, size=(n, m))\r\n",
        "k = np.mean(a)\r\n",
        "#print(a)\r\n",
        "print(k)\r\n"
      ],
      "execution_count": null,
      "outputs": [
        {
          "output_type": "stream",
          "text": [
            "0.5138888888888888\n"
          ],
          "name": "stdout"
        }
      ]
    },
    {
      "cell_type": "code",
      "metadata": {
        "id": "evsqV1NZvEsq"
      },
      "source": [
        "import timeit \r\n",
        "import numpy as np\r\n",
        "from random import randint\r\n",
        "\r\n",
        "def time_python(size): \r\n",
        "  [[randint(0, 1) for j in range(size)] for i in range(size)]\r\n",
        "  pass \r\n",
        "\r\n",
        "def time_numpy(size):\r\n",
        "   np.random.randint(size)\r\n",
        "\r\n",
        "if __name__ == '__main__': \r\n",
        "\r\n",
        "    start_time = timeit.default_timer();\r\n",
        "    time_python(2) \r\n",
        "    python_time_1 = timeit.default_timer() - start_time \r\n",
        "\r\n",
        "    start_time = timeit.default_timer(); \r\n",
        "    time_numpy(2) \r\n",
        "    numpy_time_1 = timeit.default_timer() - start_time \r\n",
        "\r\n",
        "    start_time = timeit.default_timer(); \r\n",
        "    time_python(10) \r\n",
        "    python_time_2 = timeit.default_timer() - start_time \r\n",
        "\r\n",
        "    start_time = timeit.default_timer(); \r\n",
        "    time_numpy(10) \r\n",
        "    numpy_time_2 = timeit.default_timer() - start_time"
      ],
      "execution_count": null,
      "outputs": []
    },
    {
      "cell_type": "code",
      "metadata": {
        "colab": {
          "base_uri": "https://localhost:8080/"
        },
        "id": "s9M9s8esZRFd",
        "outputId": "0d0f1ff1-7010-47e6-d793-9c5005070560"
      },
      "source": [
        "print('Array size: 2') \r\n",
        "\r\n",
        "print(f'size 2: python время {python_time_1}') \r\n",
        "print(f'size 2: numpy время {numpy_time_1}') \r\n",
        "\r\n",
        "print('Array size: 100') \r\n",
        "print(f'size 100: python время {python_time_2}') \r\n",
        "print(f'size 100: numpy время {numpy_time_2}')"
      ],
      "execution_count": null,
      "outputs": [
        {
          "output_type": "stream",
          "text": [
            "Array size: 2\n",
            "size 2: python время 2.5351000033424498e-05\n",
            "size 2: numpy время 6.195699995714676e-05\n",
            "Array size: 100\n",
            "size 100: python время 0.0001335260000132621\n",
            "size 100: numpy время 8.027999967907817e-06\n"
          ],
          "name": "stdout"
        }
      ]
    },
    {
      "cell_type": "markdown",
      "metadata": {
        "id": "YzJPKu5diX8I"
      },
      "source": [
        "# Вывод:\r\n",
        "При работе с большими массивами быстрее реализовывается Nampy, по сравнению с Python (время изменяется в зависимости от размера матрицы и изменения возможных рандомных чисел)\r\n",
        "\r\n"
      ]
    }
  ]
}